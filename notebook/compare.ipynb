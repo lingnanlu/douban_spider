{
 "cells": [
  {
   "cell_type": "code",
   "execution_count": 1,
   "metadata": {
    "collapsed": true
   },
   "outputs": [],
   "source": [
    "from surprise import KNNBasic\n",
    "from surprise import Dataset\n",
    "from surprise import Reader\n",
    "from surprise import KNNBasic\n",
    "from surprise import dump\n",
    "from surprise.accuracy import rmse\n",
    "from FR_JIZHI import FR_JIZHI\n",
    "from FR_Weight import FR_Weight\n",
    "from FS_Threshold import FS_Threshold\n",
    "from FS_Weight import FS_Weight\n",
    "from GFusion import GFusion\n",
    "from surprise import GridSearch\n",
    "import pandas as pd\n",
    "%matplotlib inline\n",
    "import matplotlib.pyplot as plt"
   ]
  },
  {
   "cell_type": "code",
   "execution_count": 2,
   "metadata": {
    "collapsed": true
   },
   "outputs": [],
   "source": [
    "reader = Reader(line_format='user item rating', sep=':')\n",
    "train_file = 'new_usr_ratings.train'\n",
    "test_file = 'new_usr_ratings.test'\n",
    "data = Dataset.load_from_folds([(train_file, test_file)], reader)"
   ]
  },
  {
   "cell_type": "code",
   "execution_count": 4,
   "metadata": {
    "collapsed": true
   },
   "outputs": [],
   "source": [
    "knn = KNNBasic(k=10)\n",
    "fs_threshold = FS_Threshold(threshold=5, alpha=0.5, k=10)\n",
    "fs_weight = FS_Weight(alpha=0.5, k=10, beta=0.8)\n",
    "fr_weight = FR_Weight(alpha=0, k=10, beta=0.8)\n",
    "gfusion = GFusion(k=10, alpha=0)\n",
    "fr_jizhi=FR_JIZHI(alpha=1, k=30)"
   ]
  },
  {
   "cell_type": "code",
   "execution_count": 6,
   "metadata": {
    "collapsed": true
   },
   "outputs": [],
   "source": [
    "from surprise.accuracy import rmse"
   ]
  },
  {
   "cell_type": "code",
   "execution_count": 7,
   "metadata": {
    "collapsed": false
   },
   "outputs": [
    {
     "name": "stdout",
     "output_type": "stream",
     "text": [
      "Computing the msd similarity matrix...\n",
      "Done computing similarity matrix.\n",
      "RMSE: 1.3940\n",
      "('The dump has been saved as file', './dump_knn')\n",
      "Computing the msd similarity matrix...\n",
      "Done computing similarity matrix.\n",
      "Computing the behavior similarity matrix...\n",
      "Done computing behavior similarity matrix\n",
      "RMSE: 1.3943\n",
      "('The dump has been saved as file', './dump_fs_threshold')\n",
      "Computing the msd similarity matrix...\n",
      "Done computing similarity matrix.\n",
      "Computing the behavior similarity matrix...\n",
      "Done computing behavior similarity matrix\n",
      "RMSE: 1.4166\n",
      "('The dump has been saved as file', './dump_fs_weight')\n",
      "Computing the msd similarity matrix...\n",
      "Done computing similarity matrix.\n",
      "Computing the behavior similarity matrix...\n",
      "Done computing behavior similarity matrix\n",
      "RMSE: 1.4011\n",
      "('The dump has been saved as file', './dump_fr_weight')\n",
      "Computing the msd similarity matrix...\n",
      "Done computing similarity matrix.\n",
      "Computing the behavior similarity matrix...\n",
      "Done computing behavior similarity matrix\n",
      "Computing the msd similarity matrix...\n",
      "Done computing similarity matrix.\n",
      "RMSE: 1.3995\n",
      "('The dump has been saved as file', './dump_gfusion')\n",
      "Computing the msd similarity matrix...\n",
      "Done computing similarity matrix.\n",
      "Computing the behavior similarity matrix...\n",
      "Done computing behavior similarity matrix\n",
      "RMSE: 1.5261\n",
      "('The dump has been saved as file', './dump_fr_jizhi')\n"
     ]
    }
   ],
   "source": [
    "for trainset, testset in data.folds():\n",
    "    knn.train(trainset)\n",
    "    pre_knn = knn.test(testset)\n",
    "    rmse(pre_knn)\n",
    "    dump('./dump_knn', predictions=pre_knn)\n",
    "    \n",
    "    fs_threshold.train(trainset)\n",
    "    pre_fs_threshold = fs_threshold.test(testset)\n",
    "    rmse(pre_fs_threshold)\n",
    "    dump('./dump_fs_threshold', predictions=pre_fs_threshold)\n",
    "    \n",
    "    fs_weight.train(trainset)\n",
    "    pre_fs_weight = fs_weight.test(testset)\n",
    "    rmse(pre_fs_weight)\n",
    "    dump('./dump_fs_weight', predictions=pre_fs_weight)\n",
    "    \n",
    "    \n",
    "    fr_weight.train(trainset)\n",
    "    pre_fr_weight = fr_weight.test(testset)\n",
    "    rmse(pre_fr_weight)\n",
    "    dump('./dump_fr_weight', predictions=pre_fr_weight)\n",
    "    \n",
    "    gfusion.train(trainset)\n",
    "    pre_gfusion = gfusion.test(testset)\n",
    "    rmse(pre_gfusion)\n",
    "    dump('./dump_gfusion', predictions=pre_gfusion)\n",
    "    \n",
    "    fr_jizhi.train(trainset)\n",
    "    pre_fr_jizhi = fr_jizhi.test(testset)\n",
    "    rmse(pre_fr_jizhi)\n",
    "    dump('./dump_fr_jizhi', predictions=pre_fr_jizhi)"
   ]
  },
  {
   "cell_type": "code",
   "execution_count": 8,
   "metadata": {
    "collapsed": true
   },
   "outputs": [],
   "source": [
    "import pickle"
   ]
  },
  {
   "cell_type": "code",
   "execution_count": 9,
   "metadata": {
    "collapsed": true
   },
   "outputs": [],
   "source": [
    "dump_obj_knn = pickle.load(open('./dump_knn', 'rb'))\n",
    "dump_obj_fs_threshold = pickle.load(open('./dump_fs_threshold', 'rb'))\n",
    "dump_obj_fs_weight = pickle.load(open('./dump_fs_weight', 'rb'))\n",
    "dump_obj_gfusion = pickle.load(open('./dump_gfusion', 'rb'))\n",
    "dump_obj_fr_jizhi = pickle.load(open('./dump_fr_jizhi', 'rb'))\n",
    "dump_obj_fr_weight = pickle.load(open('./dump_fr_weight', 'rb'))"
   ]
  },
  {
   "cell_type": "code",
   "execution_count": 10,
   "metadata": {
    "collapsed": true
   },
   "outputs": [],
   "source": [
    "df_knn = pd.DataFrame(dump_obj_knn['predictions'], columns=['uid', 'iid', 'rui', 'est', 'details'])    \n",
    "df_fs_th = pd.DataFrame(dump_obj_fs_threshold['predictions'], columns=['uid', 'iid', 'rui', 'est', 'details'])    \n",
    "df_fs_weight = pd.DataFrame(dump_obj_fs_weight['predictions'], columns=['uid', 'iid', 'rui', 'est', 'details'])    \n",
    "df_gfusion = pd.DataFrame(dump_obj_gfusion['predictions'], columns=['uid', 'iid', 'rui', 'est', 'details'])    \n",
    "df_fr_jizhi = pd.DataFrame(dump_obj_fr_jizhi['predictions'], columns=['uid', 'iid', 'rui', 'est', 'details'])    \n",
    "df_fr_weight = pd.DataFrame(dump_obj_fr_weight['predictions'], columns=['uid', 'iid', 'rui', 'est', 'details'])    \n"
   ]
  },
  {
   "cell_type": "code",
   "execution_count": 14,
   "metadata": {
    "collapsed": true
   },
   "outputs": [],
   "source": [
    "df_knn['err'] = abs(df_knn.est - df_knn.rui)\n",
    "df_fs_th['err'] = abs(df_fs_th.est - df_fs_th.rui)\n",
    "df_fs_weight['err'] = abs(df_fs_weight.est - df_fs_weight.rui)\n",
    "df_gfusion['err'] = abs(df_gfusion.est - df_gfusion.rui)\n",
    "df_fr_jizhi['err'] = abs(df_fr_jizhi.est - df_fr_jizhi.rui)\n",
    "df_fr_weight['err'] = abs(df_fr_weight.est - df_fr_weight.rui)"
   ]
  },
  {
   "cell_type": "code",
   "execution_count": 15,
   "metadata": {
    "collapsed": false
   },
   "outputs": [
    {
     "data": {
      "text/html": [
       "<div>\n",
       "<table border=\"1\" class=\"dataframe\">\n",
       "  <thead>\n",
       "    <tr style=\"text-align: right;\">\n",
       "      <th></th>\n",
       "      <th>uid</th>\n",
       "      <th>iid</th>\n",
       "      <th>rui</th>\n",
       "      <th>est</th>\n",
       "      <th>details</th>\n",
       "      <th>err</th>\n",
       "    </tr>\n",
       "  </thead>\n",
       "  <tbody>\n",
       "    <tr>\n",
       "      <th>0</th>\n",
       "      <td>helloivan</td>\n",
       "      <td>3412830</td>\n",
       "      <td>3.0</td>\n",
       "      <td>3.307978</td>\n",
       "      <td>{u'actual_k': 10, u'was_impossible': False}</td>\n",
       "      <td>0.307978</td>\n",
       "    </tr>\n",
       "    <tr>\n",
       "      <th>1</th>\n",
       "      <td>loulouxu</td>\n",
       "      <td>21318488</td>\n",
       "      <td>0.0</td>\n",
       "      <td>3.241012</td>\n",
       "      <td>{u'actual_k': 10, u'was_impossible': False}</td>\n",
       "      <td>3.241012</td>\n",
       "    </tr>\n",
       "    <tr>\n",
       "      <th>2</th>\n",
       "      <td>may-may</td>\n",
       "      <td>1790376</td>\n",
       "      <td>0.0</td>\n",
       "      <td>1.396704</td>\n",
       "      <td>{u'actual_k': 10, u'was_impossible': False}</td>\n",
       "      <td>1.396704</td>\n",
       "    </tr>\n",
       "    <tr>\n",
       "      <th>3</th>\n",
       "      <td>falling__slowly</td>\n",
       "      <td>2132120</td>\n",
       "      <td>3.0</td>\n",
       "      <td>3.401052</td>\n",
       "      <td>{u'actual_k': 10, u'was_impossible': False}</td>\n",
       "      <td>0.401052</td>\n",
       "    </tr>\n",
       "    <tr>\n",
       "      <th>4</th>\n",
       "      <td>52316424</td>\n",
       "      <td>25773932</td>\n",
       "      <td>4.0</td>\n",
       "      <td>3.474222</td>\n",
       "      <td>{u'actual_k': 10, u'was_impossible': False}</td>\n",
       "      <td>0.525778</td>\n",
       "    </tr>\n",
       "  </tbody>\n",
       "</table>\n",
       "</div>"
      ],
      "text/plain": [
       "               uid       iid  rui       est  \\\n",
       "0        helloivan   3412830  3.0  3.307978   \n",
       "1         loulouxu  21318488  0.0  3.241012   \n",
       "2          may-may   1790376  0.0  1.396704   \n",
       "3  falling__slowly   2132120  3.0  3.401052   \n",
       "4         52316424  25773932  4.0  3.474222   \n",
       "\n",
       "                                       details       err  \n",
       "0  {u'actual_k': 10, u'was_impossible': False}  0.307978  \n",
       "1  {u'actual_k': 10, u'was_impossible': False}  3.241012  \n",
       "2  {u'actual_k': 10, u'was_impossible': False}  1.396704  \n",
       "3  {u'actual_k': 10, u'was_impossible': False}  0.401052  \n",
       "4  {u'actual_k': 10, u'was_impossible': False}  0.525778  "
      ]
     },
     "execution_count": 15,
     "metadata": {},
     "output_type": "execute_result"
    }
   ],
   "source": [
    "df_knn.head()"
   ]
  },
  {
   "cell_type": "code",
   "execution_count": 24,
   "metadata": {
    "collapsed": false
   },
   "outputs": [
    {
     "data": {
      "text/html": [
       "<div>\n",
       "<table border=\"1\" class=\"dataframe\">\n",
       "  <thead>\n",
       "    <tr style=\"text-align: right;\">\n",
       "      <th></th>\n",
       "      <th>uid</th>\n",
       "      <th>iid</th>\n",
       "      <th>rui</th>\n",
       "      <th>est</th>\n",
       "      <th>details</th>\n",
       "      <th>err</th>\n",
       "    </tr>\n",
       "  </thead>\n",
       "  <tbody>\n",
       "    <tr>\n",
       "      <th>51897</th>\n",
       "      <td>bettylwx</td>\n",
       "      <td>3778503</td>\n",
       "      <td>0.0</td>\n",
       "      <td>5.0</td>\n",
       "      <td>{u'actual_k': 1, u'was_impossible': False}</td>\n",
       "      <td>5.0</td>\n",
       "    </tr>\n",
       "    <tr>\n",
       "      <th>90809</th>\n",
       "      <td>lightwing86</td>\n",
       "      <td>4236817</td>\n",
       "      <td>0.0</td>\n",
       "      <td>5.0</td>\n",
       "      <td>{u'actual_k': 7, u'was_impossible': False}</td>\n",
       "      <td>5.0</td>\n",
       "    </tr>\n",
       "    <tr>\n",
       "      <th>50994</th>\n",
       "      <td>nanka</td>\n",
       "      <td>3286538</td>\n",
       "      <td>0.0</td>\n",
       "      <td>5.0</td>\n",
       "      <td>{u'actual_k': 10, u'was_impossible': False}</td>\n",
       "      <td>5.0</td>\n",
       "    </tr>\n",
       "    <tr>\n",
       "      <th>48328</th>\n",
       "      <td>wanfang</td>\n",
       "      <td>2029920</td>\n",
       "      <td>0.0</td>\n",
       "      <td>5.0</td>\n",
       "      <td>{u'actual_k': 1, u'was_impossible': False}</td>\n",
       "      <td>5.0</td>\n",
       "    </tr>\n",
       "    <tr>\n",
       "      <th>135964</th>\n",
       "      <td>lingci</td>\n",
       "      <td>5450875</td>\n",
       "      <td>0.0</td>\n",
       "      <td>5.0</td>\n",
       "      <td>{u'actual_k': 1, u'was_impossible': False}</td>\n",
       "      <td>5.0</td>\n",
       "    </tr>\n",
       "    <tr>\n",
       "      <th>50256</th>\n",
       "      <td>54588016</td>\n",
       "      <td>25748643</td>\n",
       "      <td>0.0</td>\n",
       "      <td>5.0</td>\n",
       "      <td>{u'actual_k': 1, u'was_impossible': False}</td>\n",
       "      <td>5.0</td>\n",
       "    </tr>\n",
       "    <tr>\n",
       "      <th>144391</th>\n",
       "      <td>92468807</td>\n",
       "      <td>3882715</td>\n",
       "      <td>0.0</td>\n",
       "      <td>5.0</td>\n",
       "      <td>{u'actual_k': 10, u'was_impossible': False}</td>\n",
       "      <td>5.0</td>\n",
       "    </tr>\n",
       "    <tr>\n",
       "      <th>174314</th>\n",
       "      <td>73865605</td>\n",
       "      <td>24844328</td>\n",
       "      <td>0.0</td>\n",
       "      <td>5.0</td>\n",
       "      <td>{u'actual_k': 2, u'was_impossible': False}</td>\n",
       "      <td>5.0</td>\n",
       "    </tr>\n",
       "    <tr>\n",
       "      <th>128852</th>\n",
       "      <td>sanfer</td>\n",
       "      <td>1580592</td>\n",
       "      <td>0.0</td>\n",
       "      <td>5.0</td>\n",
       "      <td>{u'actual_k': 1, u'was_impossible': False}</td>\n",
       "      <td>5.0</td>\n",
       "    </tr>\n",
       "    <tr>\n",
       "      <th>56073</th>\n",
       "      <td>sanfer</td>\n",
       "      <td>1432660</td>\n",
       "      <td>0.0</td>\n",
       "      <td>5.0</td>\n",
       "      <td>{u'actual_k': 1, u'was_impossible': False}</td>\n",
       "      <td>5.0</td>\n",
       "    </tr>\n",
       "  </tbody>\n",
       "</table>\n",
       "</div>"
      ],
      "text/plain": [
       "                uid       iid  rui  est  \\\n",
       "51897      bettylwx   3778503  0.0  5.0   \n",
       "90809   lightwing86   4236817  0.0  5.0   \n",
       "50994         nanka   3286538  0.0  5.0   \n",
       "48328       wanfang   2029920  0.0  5.0   \n",
       "135964       lingci   5450875  0.0  5.0   \n",
       "50256      54588016  25748643  0.0  5.0   \n",
       "144391     92468807   3882715  0.0  5.0   \n",
       "174314     73865605  24844328  0.0  5.0   \n",
       "128852       sanfer   1580592  0.0  5.0   \n",
       "56073        sanfer   1432660  0.0  5.0   \n",
       "\n",
       "                                            details  err  \n",
       "51897    {u'actual_k': 1, u'was_impossible': False}  5.0  \n",
       "90809    {u'actual_k': 7, u'was_impossible': False}  5.0  \n",
       "50994   {u'actual_k': 10, u'was_impossible': False}  5.0  \n",
       "48328    {u'actual_k': 1, u'was_impossible': False}  5.0  \n",
       "135964   {u'actual_k': 1, u'was_impossible': False}  5.0  \n",
       "50256    {u'actual_k': 1, u'was_impossible': False}  5.0  \n",
       "144391  {u'actual_k': 10, u'was_impossible': False}  5.0  \n",
       "174314   {u'actual_k': 2, u'was_impossible': False}  5.0  \n",
       "128852   {u'actual_k': 1, u'was_impossible': False}  5.0  \n",
       "56073    {u'actual_k': 1, u'was_impossible': False}  5.0  "
      ]
     },
     "execution_count": 24,
     "metadata": {},
     "output_type": "execute_result"
    }
   ],
   "source": [
    "df_gfusion.iloc[df_knn.sort_values(by='err')[-10:].index]"
   ]
  },
  {
   "cell_type": "code",
   "execution_count": 25,
   "metadata": {
    "collapsed": false
   },
   "outputs": [
    {
     "data": {
      "text/plain": [
       "<matplotlib.axes._subplots.AxesSubplot at 0x82845908>"
      ]
     },
     "execution_count": 25,
     "metadata": {},
     "output_type": "execute_result"
    },
    {
     "data": {
      "image/png": "[encoded data removed]",
      "text/plain": [
       "<matplotlib.figure.Figure at 0x8e67b7b8>"
      ]
     },
     "metadata": {},
     "output_type": "display_data"
    }
   ],
   "source": [
    "figure, (ax1, ax2) = plt.subplots(1, 2)\n",
    "df_knn.est.plot(kind='hist', title='knn', ax=ax1)\n",
    "df_gfusion.est.plot(kind='hist', title='fs_threshold', ax=ax2)"
   ]
  },
  {
   "cell_type": "code",
   "execution_count": 31,
   "metadata": {
    "collapsed": true
   },
   "outputs": [],
   "source": [
    "a = [('a', 5), ('b', 4)]"
   ]
  },
  {
   "cell_type": "code",
   "execution_count": 32,
   "metadata": {
    "collapsed": false
   },
   "outputs": [
    {
     "data": {
      "text/plain": [
       "[('b', 4), ('a', 5)]"
      ]
     },
     "execution_count": 32,
     "metadata": {},
     "output_type": "execute_result"
    }
   ],
   "source": [
    "sorted(a, key=lambda x:x[1])"
   ]
  },
  {
   "cell_type": "code",
   "execution_count": 33,
   "metadata": {
    "collapsed": false
   },
   "outputs": [
    {
     "data": {
      "text/plain": [
       "[('a', 5), ('b', 4)]"
      ]
     },
     "execution_count": 33,
     "metadata": {},
     "output_type": "execute_result"
    }
   ],
   "source": [
    "a"
   ]
  },
  {
   "cell_type": "code",
   "execution_count": null,
   "metadata": {
    "collapsed": true
   },
   "outputs": [],
   "source": []
  }
 ],
 "metadata": {
  "kernelspec": {
   "display_name": "Python 2",
   "language": "python",
   "name": "python2"
  },
  "language_info": {
   "codemirror_mode": {
    "name": "ipython",
    "version": 2
   },
   "file_extension": ".py",
   "mimetype": "text/x-python",
   "name": "python",
   "nbconvert_exporter": "python",
   "pygments_lexer": "ipython2",
   "version": "2.7.13"
  }
 },
 "nbformat": 4,
 "nbformat_minor": 2
}
