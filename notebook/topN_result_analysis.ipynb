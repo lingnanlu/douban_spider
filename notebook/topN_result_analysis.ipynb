{
 "cells": [
  {
   "cell_type": "code",
   "execution_count": 36,
   "metadata": {
    "collapsed": false
   },
   "outputs": [
    {
     "name": "stdout",
     "output_type": "stream",
     "text": [
      "Using matplotlib backend: Qt5Agg\n"
     ]
    }
   ],
   "source": [
    "import numpy as np\n",
    "import pandas as pd\n",
    "%matplotlib\n",
    "import matplotlib.pyplot as plt"
   ]
  },
  {
   "cell_type": "code",
   "execution_count": 37,
   "metadata": {
    "collapsed": true
   },
   "outputs": [],
   "source": [
    "sort_topN = pd.read_csv('../result/topN_topN_sort.txt', header=None, names=['k', 'n', 'sort_precison', 'sort_recall', 'sort_coverage'])\n",
    "shuffle_topN = pd.read_csv('../result/topN_topN_shuffle.txt', header=None, names=['k', 'n', 'shuffle_precison', 'shuffle_recall', 'shuffle_coverage'])\n",
    "gfusion_topN = pd.read_csv('../result/topN_topN_gfusion.txt', header=None, names=['k', 'n', 'gfusion_precison', 'gfusion_recall', 'gfusion_coverage'])\n",
    "threshold_topN = pd.read_csv('../result/topN_FS_Threshold.txt', header=None, names=['k', 'n', 'threshold_precison', 'threshold_recall', 'threshold_coverage'])\n",
    "weight_topN = pd.read_csv('../result/topN_FS_Weight.txt', header=None, names=['k', 'n', 'weight_precison', 'weight_recall', 'weight_coverage'])\n",
    "base_topN = pd.read_csv('../result/topN_base.txt', header=None, names=['k', 'n', 'base_precison', 'base_recall', 'base_coverage'])"
   ]
  },
  {
   "cell_type": "code",
   "execution_count": 38,
   "metadata": {
    "collapsed": false
   },
   "outputs": [],
   "source": [
    "sort_topN.set_index('k', inplace=True)\n",
    "shuffle_topN.set_index('k', inplace=True)\n",
    "gfusion_topN.set_index('k', inplace=True)\n",
    "threshold_topN.set_index('k', inplace=True)\n",
    "weight_topN.set_index('k', inplace=True)\n",
    "base_topN.set_index('k', inplace=True)"
   ]
  },
  {
   "cell_type": "code",
   "execution_count": 39,
   "metadata": {
    "collapsed": false
   },
   "outputs": [],
   "source": [
    "sort_10 = sort_topN[sort_topN.n==10]\n",
    "shuffle_10 = shuffle_topN[shuffle_topN.n==10]\n",
    "gfusion_10 = gfusion_topN[gfusion_topN.n==10]\n",
    "threshold_10 = threshold_topN[threshold_topN.n==10]\n",
    "weight_10 = weight_topN[weight_topN.n==10]\n",
    "base_10 = base_topN[base_topN.n==10]"
   ]
  },
  {
   "cell_type": "code",
   "execution_count": 40,
   "metadata": {
    "collapsed": false
   },
   "outputs": [],
   "source": [
    "precision_10 = pd.concat([sort_10['sort_precison'], shuffle_10['shuffle_precison'], gfusion_10['gfusion_precison'], threshold_10['threshold_precison'], weight_10['weight_precison'], base_10['base_precison']], axis=1)\n",
    "recall_10 = pd.concat([sort_10['sort_recall'], shuffle_10['shuffle_recall'], gfusion_10['gfusion_recall'], threshold_10['threshold_recall'], weight_10['weight_recall'], base_10['base_recall']], axis=1)\n",
    "coverage_10 = pd.concat([sort_10['sort_coverage'], shuffle_10['shuffle_coverage'], gfusion_10['gfusion_coverage'], threshold_10['threshold_coverage'], weight_10['weight_coverage'], base_10['base_coverage']], axis=1)"
   ]
  },
  {
   "cell_type": "code",
   "execution_count": 44,
   "metadata": {
    "collapsed": true
   },
   "outputs": [],
   "source": [
    "sort_20 = sort_topN[sort_topN.n==20]\n",
    "shuffle_20 = shuffle_topN[shuffle_topN.n==20]\n",
    "gfusion_20 = gfusion_topN[gfusion_topN.n==20]\n",
    "threshold_20 = threshold_topN[threshold_topN.n==20]\n",
    "weight_20 = weight_topN[weight_topN.n==20]\n",
    "base_20 = base_topN[base_topN.n==20]\n",
    "precision_20 = pd.concat([sort_20['sort_precison'], shuffle_20['shuffle_precison'], gfusion_20['gfusion_precison'], threshold_20['threshold_precison'], weight_20['weight_precison'], base_20['base_precison']], axis=1)\n",
    "recall_20 = pd.concat([sort_20['sort_recall'], shuffle_20['shuffle_recall'], gfusion_20['gfusion_recall'], threshold_20['threshold_recall'], weight_20['weight_recall'], base_20['base_recall']], axis=1)\n",
    "coverage_20 = pd.concat([sort_20['sort_coverage'], shuffle_20['shuffle_coverage'], gfusion_20['gfusion_coverage'], threshold_20['threshold_coverage'], weight_20['weight_coverage'], base_20['base_coverage']], axis=1)"
   ]
  },
  {
   "cell_type": "code",
   "execution_count": 51,
   "metadata": {
    "collapsed": false
   },
   "outputs": [
    {
     "data": {
      "text/plain": [
       "<matplotlib.axes._subplots.AxesSubplot at 0x1bb35cc0>"
      ]
     },
     "execution_count": 51,
     "metadata": {},
     "output_type": "execute_result"
    }
   ],
   "source": [
    "precision_20.plot(title='precison 20')\n",
    "recall_20.plot(title='recall 20')\n",
    "coverage_20.plot(title='coverage 20')"
   ]
  },
  {
   "cell_type": "code",
   "execution_count": 49,
   "metadata": {
    "collapsed": false
   },
   "outputs": [
    {
     "data": {
      "text/plain": [
       "<matplotlib.axes._subplots.AxesSubplot at 0x11e6b630>"
      ]
     },
     "execution_count": 49,
     "metadata": {},
     "output_type": "execute_result"
    }
   ],
   "source": [
    "precision_10.plot(title='precision 10')\n",
    "recall_10.plot(title='recall 10')\n",
    "coverage_10.plot(title='coverage 10')"
   ]
  },
  {
   "cell_type": "code",
   "execution_count": 58,
   "metadata": {
    "collapsed": true
   },
   "outputs": [],
   "source": [
    "plt.rcParams['font.sans-serif']=['SimHei'] #用来正常显示中文标签\n",
    "plt.rcParams['axes.unicode_minus']=False"
   ]
  },
  {
   "cell_type": "code",
   "execution_count": 91,
   "metadata": {
    "collapsed": true
   },
   "outputs": [],
   "source": [
    "figure, ax = plt.subplots(1, 1)"
   ]
  },
  {
   "cell_type": "code",
   "execution_count": 92,
   "metadata": {
    "collapsed": false
   },
   "outputs": [
    {
     "data": {
      "text/plain": [
       "[<matplotlib.axis.XTick at 0x19dc3048>,\n",
       " <matplotlib.axis.XTick at 0x199c1358>,\n",
       " <matplotlib.axis.XTick at 0x19e24438>,\n",
       " <matplotlib.axis.XTick at 0x19e245c0>,\n",
       " <matplotlib.axis.XTick at 0x19e1b0f0>]"
      ]
     },
     "execution_count": 92,
     "metadata": {},
     "output_type": "execute_result"
    }
   ],
   "source": [
    "ax.set_xticks([5, 10, 15, 20, 25])"
   ]
  },
  {
   "cell_type": "code",
   "execution_count": 93,
   "metadata": {
    "collapsed": false
   },
   "outputs": [
    {
     "data": {
      "text/html": [
       "<div>\n",
       "<table border=\"1\" class=\"dataframe\">\n",
       "  <thead>\n",
       "    <tr style=\"text-align: right;\">\n",
       "      <th></th>\n",
       "      <th>sort_precison</th>\n",
       "      <th>shuffle_precison</th>\n",
       "      <th>gfusion_precison</th>\n",
       "      <th>threshold_precison</th>\n",
       "      <th>weight_precison</th>\n",
       "      <th>base_precison</th>\n",
       "    </tr>\n",
       "    <tr>\n",
       "      <th>k</th>\n",
       "      <th></th>\n",
       "      <th></th>\n",
       "      <th></th>\n",
       "      <th></th>\n",
       "      <th></th>\n",
       "      <th></th>\n",
       "    </tr>\n",
       "  </thead>\n",
       "  <tbody>\n",
       "    <tr>\n",
       "      <th>5</th>\n",
       "      <td>0.078122</td>\n",
       "      <td>0.075645</td>\n",
       "      <td>0.049839</td>\n",
       "      <td>0.143167</td>\n",
       "      <td>0.078662</td>\n",
       "      <td>0.062997</td>\n",
       "    </tr>\n",
       "    <tr>\n",
       "      <th>10</th>\n",
       "      <td>0.109082</td>\n",
       "      <td>0.106192</td>\n",
       "      <td>0.065015</td>\n",
       "      <td>0.180908</td>\n",
       "      <td>0.105160</td>\n",
       "      <td>0.100413</td>\n",
       "    </tr>\n",
       "    <tr>\n",
       "      <th>15</th>\n",
       "      <td>0.122704</td>\n",
       "      <td>0.117337</td>\n",
       "      <td>0.082353</td>\n",
       "      <td>0.204334</td>\n",
       "      <td>0.140248</td>\n",
       "      <td>0.127451</td>\n",
       "    </tr>\n",
       "    <tr>\n",
       "      <th>20</th>\n",
       "      <td>0.148607</td>\n",
       "      <td>0.139628</td>\n",
       "      <td>0.097833</td>\n",
       "      <td>0.225181</td>\n",
       "      <td>0.161300</td>\n",
       "      <td>0.146336</td>\n",
       "    </tr>\n",
       "    <tr>\n",
       "      <th>25</th>\n",
       "      <td>0.155728</td>\n",
       "      <td>0.141796</td>\n",
       "      <td>0.107534</td>\n",
       "      <td>0.234365</td>\n",
       "      <td>0.179051</td>\n",
       "      <td>0.160991</td>\n",
       "    </tr>\n",
       "  </tbody>\n",
       "</table>\n",
       "</div>"
      ],
      "text/plain": [
       "    sort_precison  shuffle_precison  gfusion_precison  threshold_precison  \\\n",
       "k                                                                           \n",
       "5        0.078122          0.075645          0.049839            0.143167   \n",
       "10       0.109082          0.106192          0.065015            0.180908   \n",
       "15       0.122704          0.117337          0.082353            0.204334   \n",
       "20       0.148607          0.139628          0.097833            0.225181   \n",
       "25       0.155728          0.141796          0.107534            0.234365   \n",
       "\n",
       "    weight_precison  base_precison  \n",
       "k                                   \n",
       "5          0.078662       0.062997  \n",
       "10         0.105160       0.100413  \n",
       "15         0.140248       0.127451  \n",
       "20         0.161300       0.146336  \n",
       "25         0.179051       0.160991  "
      ]
     },
     "execution_count": 93,
     "metadata": {},
     "output_type": "execute_result"
    }
   ],
   "source": [
    "precision_10"
   ]
  },
  {
   "cell_type": "code",
   "execution_count": 94,
   "metadata": {
    "collapsed": false
   },
   "outputs": [
    {
     "data": {
      "text/plain": [
       "<matplotlib.text.Text at 0x19de6320>"
      ]
     },
     "execution_count": 94,
     "metadata": {},
     "output_type": "execute_result"
    }
   ],
   "source": [
    "ax.plot(precision_10['sort_precison'], marker='o', label='TFR-GSort')\n",
    "ax.plot(precision_10['shuffle_precison'], marker='*', label='TFR-Shuffle')\n",
    "ax.plot(precision_10['gfusion_precison'], marker='^', label='TFR-Global')\n",
    "ax.plot(precision_10['threshold_precison'], marker='8', label='TFS-Threshold')\n",
    "ax.plot(precision_10['weight_precison'], marker='>', label='TFS-Weight')\n",
    "ax.plot(precision_10['base_precison'], marker='s', label='Base')\n",
    "ax.legend(loc='best')\n",
    "ax.set_xlabel(u'近邻数目选择')\n",
    "ax.set_ylabel('Precision')"
   ]
  },
  {
   "cell_type": "code",
   "execution_count": 95,
   "metadata": {
    "collapsed": false
   },
   "outputs": [
    {
     "data": {
      "text/plain": [
       "<matplotlib.text.Text at 0x1a062978>"
      ]
     },
     "execution_count": 95,
     "metadata": {},
     "output_type": "execute_result"
    }
   ],
   "source": [
    "figure, ax = plt.subplots(1, 1)\n",
    "ax.set_xticks([5, 10, 15, 20, 25])\n",
    "ax.plot(recall_10['sort_recall'], marker='o', label='TFR-GSort')\n",
    "ax.plot(recall_10['shuffle_recall'], marker='*', label='TFR-Shuffle')\n",
    "ax.plot(recall_10['gfusion_recall'], marker='^', label='TFR-Global')\n",
    "ax.plot(recall_10['threshold_recall'], marker='8', label='TFS-Threshold')\n",
    "ax.plot(recall_10['weight_recall'], marker='>', label='TFS-Weight')\n",
    "ax.plot(recall_10['base_recall'], marker='s', label='Base')\n",
    "ax.legend(loc='best')\n",
    "ax.set_xlabel(u'近邻数目选择')\n",
    "ax.set_ylabel('Recall')"
   ]
  },
  {
   "cell_type": "code",
   "execution_count": 96,
   "metadata": {
    "collapsed": false
   },
   "outputs": [
    {
     "data": {
      "text/plain": [
       "<matplotlib.text.Text at 0x1a2a0908>"
      ]
     },
     "execution_count": 96,
     "metadata": {},
     "output_type": "execute_result"
    }
   ],
   "source": [
    "figure, ax = plt.subplots(1, 1)\n",
    "ax.set_xticks([5, 10, 15, 20, 25])\n",
    "ax.plot(coverage_10['sort_coverage'], marker='o', label='TFR-GSort')\n",
    "ax.plot(coverage_10['shuffle_coverage'], marker='*', label='TFR-Shuffle')\n",
    "ax.plot(coverage_10['gfusion_coverage'], marker='^', label='TFR-Global')\n",
    "ax.plot(coverage_10['threshold_coverage'], marker='8', label='TFS-Threshold')\n",
    "ax.plot(coverage_10['weight_coverage'], marker='>', label='TFS-Weight')\n",
    "ax.plot(coverage_10['base_coverage'], marker='s', label='Base')\n",
    "ax.legend(loc='best')\n",
    "ax.set_xlabel(u'近邻数目选择')\n",
    "ax.set_ylabel('Coverage')"
   ]
  },
  {
   "cell_type": "code",
   "execution_count": 98,
   "metadata": {
    "collapsed": false
   },
   "outputs": [
    {
     "data": {
      "text/plain": [
       "<matplotlib.text.Text at 0x1a58bd68>"
      ]
     },
     "execution_count": 98,
     "metadata": {},
     "output_type": "execute_result"
    }
   ],
   "source": [
    "figure, ax = plt.subplots(1, 1)\n",
    "ax.set_xticks([5, 10, 15, 20, 25])\n",
    "ax.plot(precision_20['sort_precison'], marker='o', label='TFR-GSort')\n",
    "ax.plot(precision_20['shuffle_precison'], marker='*', label='TFR-Shuffle')\n",
    "ax.plot(precision_20['gfusion_precison'], marker='^', label='TFR-Global')\n",
    "ax.plot(precision_20['threshold_precison'], marker='8', label='TFS-Threshold')\n",
    "ax.plot(precision_20['weight_precison'], marker='>', label='TFS-Weight')\n",
    "ax.plot(precision_20['base_precison'], marker='s', label='Base')\n",
    "ax.legend(loc='best')\n",
    "ax.set_xlabel(u'近邻数目选择')\n",
    "ax.set_ylabel('Precision')"
   ]
  },
  {
   "cell_type": "code",
   "execution_count": 99,
   "metadata": {
    "collapsed": false
   },
   "outputs": [
    {
     "data": {
      "text/plain": [
       "<matplotlib.text.Text at 0x1a853278>"
      ]
     },
     "execution_count": 99,
     "metadata": {},
     "output_type": "execute_result"
    }
   ],
   "source": [
    "figure, ax = plt.subplots(1, 1)\n",
    "ax.set_xticks([5, 10, 15, 20, 25])\n",
    "ax.plot(recall_20['sort_recall'], marker='o', label='TFR-GSort')\n",
    "ax.plot(recall_20['shuffle_recall'], marker='*', label='TFR-Shuffle')\n",
    "ax.plot(recall_20['gfusion_recall'], marker='^', label='TFR-Global')\n",
    "ax.plot(recall_20['threshold_recall'], marker='8', label='TFS-Threshold')\n",
    "ax.plot(recall_20['weight_recall'], marker='>', label='TFS-Weight')\n",
    "ax.plot(recall_20['base_recall'], marker='s', label='Base')\n",
    "ax.legend(loc='best')\n",
    "ax.set_xlabel(u'近邻数目选择')\n",
    "ax.set_ylabel('Recall')"
   ]
  },
  {
   "cell_type": "code",
   "execution_count": 101,
   "metadata": {
    "collapsed": false
   },
   "outputs": [
    {
     "data": {
      "text/plain": [
       "<matplotlib.text.Text at 0x23d0f240>"
      ]
     },
     "execution_count": 101,
     "metadata": {},
     "output_type": "execute_result"
    }
   ],
   "source": [
    "figure, ax = plt.subplots(1, 1)\n",
    "ax.set_xticks([5, 10, 15, 20, 25])\n",
    "ax.plot(coverage_20['sort_coverage'], marker='o', label='TFR-GSort')\n",
    "ax.plot(coverage_20['shuffle_coverage'], marker='*', label='TFR-Shuffle')\n",
    "ax.plot(coverage_20['gfusion_coverage'], marker='^', label='TFR-Global')\n",
    "ax.plot(coverage_20['threshold_coverage'], marker='8', label='TFS-Threshold')\n",
    "ax.plot(coverage_20['weight_coverage'], marker='>', label='TFS-Weight')\n",
    "ax.plot(coverage_20['base_coverage'], marker='s', label='Base')\n",
    "ax.legend(loc='best')\n",
    "ax.set_xlabel(u'近邻数目选择')\n",
    "ax.set_ylabel('Coverage')"
   ]
  },
  {
   "cell_type": "code",
   "execution_count": null,
   "metadata": {
    "collapsed": true
   },
   "outputs": [],
   "source": []
  }
 ],
 "metadata": {
  "kernelspec": {
   "display_name": "Python 2",
   "language": "python",
   "name": "python2"
  },
  "language_info": {
   "codemirror_mode": {
    "name": "ipython",
    "version": 2
   },
   "file_extension": ".py",
   "mimetype": "text/x-python",
   "name": "python",
   "nbconvert_exporter": "python",
   "pygments_lexer": "ipython2",
   "version": "2.7.13"
  }
 },
 "nbformat": 4,
 "nbformat_minor": 2
}
