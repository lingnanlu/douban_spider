{
 "cells": [
  {
   "cell_type": "code",
   "execution_count": 1,
   "metadata": {
    "collapsed": false
   },
   "outputs": [],
   "source": [
    "import pandas as pd\n",
    "import numpy as np\n",
    "from surprise import Dataset\n",
    "from surprise import Reader\n",
    "from base import base"
   ]
  },
  {
   "cell_type": "code",
   "execution_count": 2,
   "metadata": {
    "collapsed": false
   },
   "outputs": [],
   "source": [
    "reader = Reader(line_format='user item rating', sep=':')\n",
    "data = Dataset.load_from_file('data/new_usr_ratings.txt', reader=reader)"
   ]
  },
  {
   "cell_type": "code",
   "execution_count": 3,
   "metadata": {
    "collapsed": true
   },
   "outputs": [],
   "source": [
    "data.split(n_folds=3)\n",
    "trainsets = []\n",
    "testsets = []\n",
    "for trainset, testset in data.folds():\n",
    "    trainsets.append(trainset)\n",
    "    testsets.append(testset)\n",
    "first_trainset = trainsets[0]\n",
    "first_testset = testsets[0]"
   ]
  },
  {
   "cell_type": "code",
   "execution_count": 6,
   "metadata": {
    "collapsed": false
   },
   "outputs": [
    {
     "data": {
      "text/plain": [
       "970"
      ]
     },
     "execution_count": 6,
     "metadata": {},
     "output_type": "execute_result"
    }
   ],
   "source": [
    "first_trainset.n_users"
   ]
  },
  {
   "cell_type": "code",
   "execution_count": 4,
   "metadata": {
    "collapsed": true
   },
   "outputs": [],
   "source": [
    "algo_base = base(alpha=0.5)"
   ]
  },
  {
   "cell_type": "code",
   "execution_count": 5,
   "metadata": {
    "collapsed": false
   },
   "outputs": [
    {
     "name": "stderr",
     "output_type": "stream",
     "text": [
      "C:\\Users\\rico\\Miniconda2\\lib\\site-packages\\pandas\\core\\generic.py:2773: SettingWithCopyWarning: \n",
      "A value is trying to be set on a copy of a slice from a DataFrame.\n",
      "Try using .loc[row_indexer,col_indexer] = value instead\n",
      "\n",
      "See the caveats in the documentation: http://pandas.pydata.org/pandas-docs/stable/indexing.html#indexing-view-versus-copy\n",
      "  self[name] = value\n"
     ]
    },
    {
     "name": "stdout",
     "output_type": "stream",
     "text": [
      "Computing the msd similarity matrix...\n",
      "Done computing similarity matrix.\n",
      "Computing the behavior similarity matrix...\n",
      "Done computing behavior similarity matrix\n"
     ]
    }
   ],
   "source": [
    "algo_base.train(first_trainset)"
   ]
  },
  {
   "cell_type": "code",
   "execution_count": 7,
   "metadata": {
    "collapsed": false
   },
   "outputs": [
    {
     "data": {
      "text/plain": [
       "uid\n",
       "899    0.000000\n",
       "944    0.000000\n",
       "942    0.000000\n",
       "941    0.000000\n",
       "768    0.000000\n",
       "967    0.000000\n",
       "955    0.000000\n",
       "957    0.000000\n",
       "958    0.000000\n",
       "946    0.000000\n",
       "962    0.000000\n",
       "888    0.016299\n",
       "181    0.022390\n",
       "894    0.022390\n",
       "809    0.022690\n",
       "954    0.023172\n",
       "600    0.024084\n",
       "634    0.024493\n",
       "921    0.025289\n",
       "943    0.026568\n",
       "606    0.026670\n",
       "968    0.028321\n",
       "836    0.029170\n",
       "938    0.029176\n",
       "935    0.029229\n",
       "637    0.029443\n",
       "956    0.029731\n",
       "966    0.030039\n",
       "858    0.030818\n",
       "438    0.031677\n",
       "         ...   \n",
       "160    0.453077\n",
       "331    0.455056\n",
       "47     0.458580\n",
       "483    0.460064\n",
       "20     0.460414\n",
       "416    0.462080\n",
       "434    0.471353\n",
       "695    0.472909\n",
       "462    0.472993\n",
       "188    0.475953\n",
       "472    0.476340\n",
       "245    0.480182\n",
       "325    0.480563\n",
       "496    0.482575\n",
       "237    0.485260\n",
       "736    0.494083\n",
       "561    0.508064\n",
       "465    0.540647\n",
       "121    0.573387\n",
       "759    0.588392\n",
       "7      0.594714\n",
       "714    0.600087\n",
       "391    0.614046\n",
       "252    0.681955\n",
       "82     0.683177\n",
       "72     0.730049\n",
       "45     0.756090\n",
       "481    0.834002\n",
       "304    0.862161\n",
       "119    1.000000\n",
       "dtype: float64"
      ]
     },
     "execution_count": 7,
     "metadata": {},
     "output_type": "execute_result"
    }
   ],
   "source": [
    "algo_base.URDI.sort_values()"
   ]
  },
  {
   "cell_type": "code",
   "execution_count": 8,
   "metadata": {
    "collapsed": false
   },
   "outputs": [
    {
     "data": {
      "text/plain": [
       "'51444001'"
      ]
     },
     "execution_count": 8,
     "metadata": {},
     "output_type": "execute_result"
    }
   ],
   "source": [
    "first_trainset.to_raw_uid(160)"
   ]
  },
  {
   "cell_type": "code",
   "execution_count": 9,
   "metadata": {
    "collapsed": false
   },
   "outputs": [],
   "source": [
    "user_a = algo_base.assist_rating_df[algo_base.assist_rating_df.uid=='51444001']"
   ]
  },
  {
   "cell_type": "code",
   "execution_count": 10,
   "metadata": {
    "collapsed": false
   },
   "outputs": [],
   "source": [
    "user_a_stats = user_a.groupby('date').count().uid"
   ]
  },
  {
   "cell_type": "code",
   "execution_count": 11,
   "metadata": {
    "collapsed": false
   },
   "outputs": [],
   "source": [
    "user_a_stats = user_a_stats[1:]"
   ]
  },
  {
   "cell_type": "code",
   "execution_count": 12,
   "metadata": {
    "collapsed": false
   },
   "outputs": [
    {
     "name": "stdout",
     "output_type": "stream",
     "text": [
      "Using matplotlib backend: Qt5Agg\n"
     ]
    }
   ],
   "source": [
    "%matplotlib\n",
    "import matplotlib.pyplot as plt"
   ]
  },
  {
   "cell_type": "code",
   "execution_count": 13,
   "metadata": {
    "collapsed": false
   },
   "outputs": [],
   "source": [
    "graph = user_a_stats.plot.line(rot=20)"
   ]
  },
  {
   "cell_type": "code",
   "execution_count": 14,
   "metadata": {
    "collapsed": false
   },
   "outputs": [
    {
     "data": {
      "text/plain": [
       "<matplotlib.text.Text at 0x268047b8>"
      ]
     },
     "execution_count": 14,
     "metadata": {},
     "output_type": "execute_result"
    }
   ],
   "source": [
    "graph.set_xlabel('rating date')"
   ]
  },
  {
   "cell_type": "code",
   "execution_count": 15,
   "metadata": {
    "collapsed": false
   },
   "outputs": [
    {
     "data": {
      "text/plain": [
       "<matplotlib.text.Text at 0x2683cdd8>"
      ]
     },
     "execution_count": 15,
     "metadata": {},
     "output_type": "execute_result"
    }
   ],
   "source": [
    "graph.set_ylabel('rating count')"
   ]
  },
  {
   "cell_type": "code",
   "execution_count": null,
   "metadata": {
    "collapsed": true
   },
   "outputs": [],
   "source": []
  }
 ],
 "metadata": {
  "kernelspec": {
   "display_name": "Python 2",
   "language": "python",
   "name": "python2"
  },
  "language_info": {
   "codemirror_mode": {
    "name": "ipython",
    "version": 2
   },
   "file_extension": ".py",
   "mimetype": "text/x-python",
   "name": "python",
   "nbconvert_exporter": "python",
   "pygments_lexer": "ipython2",
   "version": "2.7.13"
  }
 },
 "nbformat": 4,
 "nbformat_minor": 2
}
