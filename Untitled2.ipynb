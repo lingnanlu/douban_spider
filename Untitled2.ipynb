{
 "cells": [
  {
   "cell_type": "code",
   "execution_count": 2,
   "metadata": {
    "collapsed": false
   },
   "outputs": [],
   "source": [
    "import pandas as pd\n",
    "import numpy as np\n",
    "from surprise import Dataset\n",
    "from surprise import Reader\n",
    "from base import base"
   ]
  },
  {
   "cell_type": "code",
   "execution_count": 4,
   "metadata": {
    "collapsed": false
   },
   "outputs": [],
   "source": [
    "reader = Reader(line_format='user item rating', sep=':')\n",
    "data = Dataset.load_from_file('data/new_usr_ratings.txt', reader=reader)"
   ]
  },
  {
   "cell_type": "code",
   "execution_count": 5,
   "metadata": {
    "collapsed": true
   },
   "outputs": [],
   "source": [
    "data.split(n_folds=3)\n",
    "trainsets = []\n",
    "testsets = []\n",
    "for trainset, testset in data.folds():\n",
    "    trainsets.append(trainset)\n",
    "    testsets.append(testset)\n",
    "first_trainset = trainsets[0]\n",
    "first_testset = testsets[0]"
   ]
  },
  {
   "cell_type": "code",
   "execution_count": 6,
   "metadata": {
    "collapsed": false
   },
   "outputs": [
    {
     "data": {
      "text/plain": [
       "970"
      ]
     },
     "execution_count": 6,
     "metadata": {},
     "output_type": "execute_result"
    }
   ],
   "source": [
    "first_trainset.n_users"
   ]
  },
  {
   "cell_type": "code",
   "execution_count": 7,
   "metadata": {
    "collapsed": true
   },
   "outputs": [],
   "source": [
    "algo_base = base(alpha=0.5)"
   ]
  },
  {
   "cell_type": "code",
   "execution_count": 8,
   "metadata": {
    "collapsed": false
   },
   "outputs": [
    {
     "name": "stderr",
     "output_type": "stream",
     "text": [
      "C:\\Users\\rico\\Miniconda2\\lib\\site-packages\\pandas\\core\\generic.py:2773: SettingWithCopyWarning: \n",
      "A value is trying to be set on a copy of a slice from a DataFrame.\n",
      "Try using .loc[row_indexer,col_indexer] = value instead\n",
      "\n",
      "See the caveats in the documentation: http://pandas.pydata.org/pandas-docs/stable/indexing.html#indexing-view-versus-copy\n",
      "  self[name] = value\n"
     ]
    },
    {
     "name": "stdout",
     "output_type": "stream",
     "text": [
      "Computing the msd similarity matrix...\n",
      "Done computing similarity matrix.\n",
      "Computing the behavior similarity matrix...\n",
      "Done computing behavior similarity matrix\n"
     ]
    }
   ],
   "source": [
    "algo_base.train(first_trainset)"
   ]
  },
  {
   "cell_type": "code",
   "execution_count": 50,
   "metadata": {
    "collapsed": false
   },
   "outputs": [
    {
     "data": {
      "text/plain": [
       "uid\n",
       "969    0.000000\n",
       "967    0.000000\n",
       "922    0.000000\n",
       "848    0.000000\n",
       "937    0.000000\n",
       "665    0.000000\n",
       "837    0.000000\n",
       "962    0.000000\n",
       "941    0.000000\n",
       "945    0.000000\n",
       "948    0.000000\n",
       "958    0.000000\n",
       "935    0.016299\n",
       "907    0.022390\n",
       "810    0.022390\n",
       "483    0.022690\n",
       "961    0.023172\n",
       "780    0.024084\n",
       "923    0.024493\n",
       "965    0.025289\n",
       "944    0.026568\n",
       "65     0.026670\n",
       "963    0.028321\n",
       "928    0.029170\n",
       "906    0.029176\n",
       "908    0.029229\n",
       "718    0.029443\n",
       "651    0.029731\n",
       "968    0.030039\n",
       "722    0.030818\n",
       "         ...   \n",
       "66     0.099334\n",
       "704    0.099432\n",
       "185    0.099440\n",
       "634    0.099688\n",
       "28     0.099758\n",
       "645    0.099759\n",
       "622    0.099808\n",
       "909    0.100090\n",
       "359    0.100611\n",
       "844    0.100810\n",
       "182    0.101031\n",
       "949    0.101238\n",
       "393    0.101481\n",
       "804    0.101507\n",
       "863    0.101598\n",
       "638    0.101726\n",
       "851    0.102116\n",
       "207    0.102121\n",
       "831    0.102201\n",
       "394    0.102264\n",
       "537    0.102299\n",
       "321    0.102363\n",
       "789    0.102536\n",
       "755    0.102610\n",
       "681    0.102629\n",
       "884    0.103079\n",
       "55     0.103400\n",
       "793    0.103635\n",
       "301    0.103790\n",
       "417    0.104058\n",
       "dtype: float64"
      ]
     },
     "execution_count": 50,
     "metadata": {},
     "output_type": "execute_result"
    }
   ],
   "source": [
    "algo_base.URDI.sort_values()[0:300]"
   ]
  },
  {
   "cell_type": "code",
   "execution_count": 51,
   "metadata": {
    "collapsed": false
   },
   "outputs": [
    {
     "data": {
      "text/plain": [
       "'35244947'"
      ]
     },
     "execution_count": 51,
     "metadata": {},
     "output_type": "execute_result"
    }
   ],
   "source": [
    "first_trainset.to_raw_uid(909)"
   ]
  },
  {
   "cell_type": "code",
   "execution_count": 52,
   "metadata": {
    "collapsed": false
   },
   "outputs": [],
   "source": [
    "user_a = algo_base.assist_rating_df[algo_base.assist_rating_df.uid=='35244947']"
   ]
  },
  {
   "cell_type": "code",
   "execution_count": 53,
   "metadata": {
    "collapsed": false
   },
   "outputs": [],
   "source": [
    "user_a_stats = user_a.groupby('date').count().uid"
   ]
  },
  {
   "cell_type": "code",
   "execution_count": 54,
   "metadata": {
    "collapsed": false
   },
   "outputs": [],
   "source": [
    "user_a_stats = user_a_stats[1:]"
   ]
  },
  {
   "cell_type": "code",
   "execution_count": 55,
   "metadata": {
    "collapsed": false
   },
   "outputs": [
    {
     "name": "stdout",
     "output_type": "stream",
     "text": [
      "Using matplotlib backend: Qt5Agg\n"
     ]
    }
   ],
   "source": [
    "%matplotlib\n",
    "import matplotlib.pyplot as plt"
   ]
  },
  {
   "cell_type": "code",
   "execution_count": 56,
   "metadata": {
    "collapsed": false
   },
   "outputs": [],
   "source": [
    "graph = user_a_stats.plot.line(rot=20)"
   ]
  },
  {
   "cell_type": "code",
   "execution_count": 57,
   "metadata": {
    "collapsed": false
   },
   "outputs": [
    {
     "data": {
      "text/plain": [
       "<matplotlib.text.Text at 0x2d26a2e8>"
      ]
     },
     "execution_count": 57,
     "metadata": {},
     "output_type": "execute_result"
    }
   ],
   "source": [
    "graph.set_xlabel('rating date')"
   ]
  },
  {
   "cell_type": "code",
   "execution_count": 58,
   "metadata": {
    "collapsed": false
   },
   "outputs": [
    {
     "data": {
      "text/plain": [
       "<matplotlib.text.Text at 0x2d13d0f0>"
      ]
     },
     "execution_count": 58,
     "metadata": {},
     "output_type": "execute_result"
    }
   ],
   "source": [
    "graph.set_ylabel('rating count')"
   ]
  },
  {
   "cell_type": "code",
   "execution_count": null,
   "metadata": {
    "collapsed": true
   },
   "outputs": [],
   "source": []
  }
 ],
 "metadata": {
  "kernelspec": {
   "display_name": "Python 2",
   "language": "python",
   "name": "python2"
  },
  "language_info": {
   "codemirror_mode": {
    "name": "ipython",
    "version": 2
   },
   "file_extension": ".py",
   "mimetype": "text/x-python",
   "name": "python",
   "nbconvert_exporter": "python",
   "pygments_lexer": "ipython2",
   "version": "2.7.13"
  }
 },
 "nbformat": 4,
 "nbformat_minor": 2
}
