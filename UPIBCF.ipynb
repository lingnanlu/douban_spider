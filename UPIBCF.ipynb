{
 "cells": [
  {
   "cell_type": "code",
   "execution_count": 1,
   "metadata": {
    "collapsed": false
   },
   "outputs": [],
   "source": [
    "import pandas as pd\n",
    "import numpy as np"
   ]
  },
  {
   "cell_type": "code",
   "execution_count": 2,
   "metadata": {
    "collapsed": true
   },
   "outputs": [],
   "source": [
    "from surprise import Dataset\n",
    "from surprise import Reader"
   ]
  },
  {
   "cell_type": "code",
   "execution_count": 3,
   "metadata": {
    "collapsed": false
   },
   "outputs": [],
   "source": [
    "from UBCFBase import UBCFBase\n",
    "from FS_Weight import FS_Weight\n",
    "from surprise import KNNBasic\n",
    "from FS_Threshold import FS_Threshold\n",
    "from FR_JIZHI import FR_JIZHI\n",
    "from FR_Weight import FR_Weight\n",
    "from GFusion import GFusion"
   ]
  },
  {
   "cell_type": "code",
   "execution_count": 4,
   "metadata": {
    "collapsed": false
   },
   "outputs": [],
   "source": [
    "reader = Reader(line_format='user item rating', sep=':')"
   ]
  },
  {
   "cell_type": "code",
   "execution_count": 5,
   "metadata": {
    "collapsed": true
   },
   "outputs": [],
   "source": [
    "data = Dataset.load_from_file('new_usr_ratings.txt', reader=reader)"
   ]
  },
  {
   "cell_type": "code",
   "execution_count": 6,
   "metadata": {
    "collapsed": true
   },
   "outputs": [],
   "source": [
    "data.split(n_folds=3)"
   ]
  },
  {
   "cell_type": "code",
   "execution_count": 7,
   "metadata": {
    "collapsed": true
   },
   "outputs": [],
   "source": [
    "trainsets = []\n",
    "testsets = []\n",
    "for trainset, testset in data.folds():\n",
    "    trainsets.append(trainset)\n",
    "    testsets.append(testset)"
   ]
  },
  {
   "cell_type": "code",
   "execution_count": 8,
   "metadata": {
    "collapsed": true
   },
   "outputs": [],
   "source": [
    "first_trainset = trainsets[0]\n",
    "first_testset = testsets[0]"
   ]
  },
  {
   "cell_type": "code",
   "execution_count": 9,
   "metadata": {
    "collapsed": false
   },
   "outputs": [
    {
     "data": {
      "text/plain": [
       "971"
      ]
     },
     "execution_count": 9,
     "metadata": {},
     "output_type": "execute_result"
    }
   ],
   "source": [
    "first_trainset.n_users"
   ]
  },
  {
   "cell_type": "code",
   "execution_count": 10,
   "metadata": {
    "collapsed": true
   },
   "outputs": [],
   "source": [
    "algo_base = UBCFBase(alpha=0.5)"
   ]
  },
  {
   "cell_type": "code",
   "execution_count": 11,
   "metadata": {
    "collapsed": false
   },
   "outputs": [
    {
     "name": "stdout",
     "output_type": "stream",
     "text": [
      "Computing the msd similarity matrix...\n",
      "Done computing similarity matrix.\n",
      "Computing the behavior similarity matrix...\n",
      "Done computing behavior similarity matrix\n"
     ]
    }
   ],
   "source": [
    "algo_base.train(first_trainset)"
   ]
  },
  {
   "cell_type": "code",
   "execution_count": 12,
   "metadata": {
    "collapsed": false
   },
   "outputs": [
    {
     "name": "stdout",
     "output_type": "stream",
     "text": [
      "152533709\n",
      "only6\n",
      "141561635\n"
     ]
    }
   ],
   "source": [
    "print first_trainset.to_raw_uid(967)\n",
    "print first_trainset.to_raw_uid(965)\n",
    "print first_trainset.to_raw_uid(961)"
   ]
  },
  {
   "cell_type": "code",
   "execution_count": 13,
   "metadata": {
    "collapsed": false
   },
   "outputs": [
    {
     "name": "stdout",
     "output_type": "stream",
     "text": [
      "doumo.521\n",
      "drtsb\n",
      "123404248\n"
     ]
    }
   ],
   "source": [
    "print first_trainset.to_raw_uid(345)\n",
    "print first_trainset.to_raw_uid(34)\n",
    "print first_trainset.to_raw_uid(431)"
   ]
  },
  {
   "cell_type": "code",
   "execution_count": 14,
   "metadata": {
    "collapsed": false
   },
   "outputs": [],
   "source": [
    "user_comment_raw = algo_base.trainset_assist_rating_df.groupby(['uid', 'comment_type']).size().unstack().fillna(0)"
   ]
  },
  {
   "cell_type": "code",
   "execution_count": 15,
   "metadata": {
    "collapsed": false
   },
   "outputs": [],
   "source": [
    "user_comment_raw['sum'] = user_comment_raw[0] + user_comment_raw[1]"
   ]
  },
  {
   "cell_type": "code",
   "execution_count": 16,
   "metadata": {
    "collapsed": false
   },
   "outputs": [
    {
     "name": "stdout",
     "output_type": "stream",
     "text": [
      "Using matplotlib backend: Qt5Agg\n"
     ]
    }
   ],
   "source": [
    "%matplotlib"
   ]
  },
  {
   "cell_type": "code",
   "execution_count": 21,
   "metadata": {
    "collapsed": true
   },
   "outputs": [],
   "source": [
    "def plot_user_hot_hist(user, ax):\n",
    "    temp=algo_base.trainset_assist_rating_df[algo_base.trainset_assist_rating_df.uid==user]\n",
    "    temp = pd.merge(temp, algo_base.IHot, left_on='iid', right_index=True)\n",
    "    temp['hot'].plot(ax=ax, kind='hist')"
   ]
  },
  {
   "cell_type": "code",
   "execution_count": 22,
   "metadata": {
    "collapsed": true
   },
   "outputs": [],
   "source": [
    "import matplotlib.pyplot as plt"
   ]
  },
  {
   "cell_type": "code",
   "execution_count": 39,
   "metadata": {
    "collapsed": false
   },
   "outputs": [],
   "source": [
    "fig, axes = plt.subplots(1, 2)"
   ]
  },
  {
   "cell_type": "code",
   "execution_count": 63,
   "metadata": {
    "collapsed": false
   },
   "outputs": [
    {
     "data": {
      "text/plain": [
       "0.45307677654713241"
      ]
     },
     "execution_count": 63,
     "metadata": {},
     "output_type": "execute_result"
    }
   ],
   "source": [
    "algo_base.URDI[23]"
   ]
  },
  {
   "cell_type": "code",
   "execution_count": 41,
   "metadata": {
    "collapsed": true
   },
   "outputs": [],
   "source": [
    "user_date_raw = algo_base.trainset_assist_rating_df.groupby(['uid', 'date']).size()"
   ]
  },
  {
   "cell_type": "code",
   "execution_count": 56,
   "metadata": {
    "collapsed": false
   },
   "outputs": [
    {
     "data": {
      "text/plain": [
       "<matplotlib.axes._subplots.AxesSubplot at 0x3774c5c0>"
      ]
     },
     "execution_count": 56,
     "metadata": {},
     "output_type": "execute_result"
    }
   ],
   "source": [
    "user_date_raw[2].plot()"
   ]
  },
  {
   "cell_type": "code",
   "execution_count": 62,
   "metadata": {
    "collapsed": false,
    "scrolled": true
   },
   "outputs": [
    {
     "data": {
      "text/plain": [
       "date\n",
       "1800-01-01      1\n",
       "2011-05-10      1\n",
       "2011-05-12      3\n",
       "2011-05-21    193\n",
       "2011-05-22      1\n",
       "2011-05-24      1\n",
       "2011-06-11      4\n",
       "2011-06-12      1\n",
       "2011-07-24      2\n",
       "2011-08-25      2\n",
       "2011-10-04      2\n",
       "2011-10-19      1\n",
       "2011-11-09      1\n",
       "2011-12-07      1\n",
       "2011-12-08      1\n",
       "2011-12-10      1\n",
       "2011-12-12      2\n",
       "2011-12-14      1\n",
       "2011-12-25      2\n",
       "2012-01-01     32\n",
       "2012-01-20      2\n",
       "2012-01-28      1\n",
       "2012-02-13      2\n",
       "2012-03-10      2\n",
       "2012-03-13      1\n",
       "2012-04-02      1\n",
       "2012-04-10      2\n",
       "2012-04-22      1\n",
       "2012-04-24      1\n",
       "2012-05-18      1\n",
       "             ... \n",
       "2015-09-06      1\n",
       "2015-09-07      1\n",
       "2015-09-18      2\n",
       "2015-09-19      1\n",
       "2015-09-23      1\n",
       "2016-01-08      1\n",
       "2016-01-25      1\n",
       "2016-02-13      1\n",
       "2016-02-14      1\n",
       "2016-06-14      1\n",
       "2016-07-15      1\n",
       "2016-07-23      1\n",
       "2016-07-24      1\n",
       "2016-08-31      1\n",
       "2016-09-02      4\n",
       "2016-09-11      1\n",
       "2016-09-19      1\n",
       "2016-09-29      1\n",
       "2016-12-22      1\n",
       "2016-12-28      2\n",
       "2017-01-02      5\n",
       "2017-01-08      1\n",
       "2017-01-15      5\n",
       "2017-01-22      2\n",
       "2017-02-11      1\n",
       "2017-02-20      2\n",
       "2017-02-21      1\n",
       "2017-03-03      1\n",
       "2017-03-04      1\n",
       "2017-03-10      1\n",
       "dtype: int64"
      ]
     },
     "execution_count": 62,
     "metadata": {},
     "output_type": "execute_result"
    }
   ],
   "source": [
    "user_date_raw[23]"
   ]
  },
  {
   "cell_type": "code",
   "execution_count": 65,
   "metadata": {
    "collapsed": false
   },
   "outputs": [
    {
     "data": {
      "text/plain": [
       "array([[ 1.        ,  0.09608091,  0.08069164, ...,  0.        ,\n",
       "         0.        ,  0.        ],\n",
       "       [ 0.09608091,  1.        ,  0.32258065, ...,  0.        ,\n",
       "         0.        ,  0.        ],\n",
       "       [ 0.08069164,  0.32258065,  1.        , ...,  0.        ,\n",
       "         0.        ,  0.        ],\n",
       "       ..., \n",
       "       [ 0.        ,  0.        ,  0.        , ...,  1.        ,\n",
       "         0.        ,  0.        ],\n",
       "       [ 0.        ,  0.        ,  0.        , ...,  0.        ,\n",
       "         1.        ,  0.        ],\n",
       "       [ 0.        ,  0.        ,  0.        , ...,  0.        ,\n",
       "         0.        ,  1.        ]])"
      ]
     },
     "execution_count": 65,
     "metadata": {},
     "output_type": "execute_result"
    }
   ],
   "source": [
    "algo_base.sim"
   ]
  },
  {
   "cell_type": "code",
   "execution_count": 66,
   "metadata": {
    "collapsed": false
   },
   "outputs": [
    {
     "data": {
      "text/plain": [
       "array([[ 0.        ,  0.18400873,  0.17026726, ...,  0.28233277,\n",
       "         0.27624027,  0.27283152],\n",
       "       [ 0.18400873,  0.        ,  0.01942684, ...,  0.14210911,\n",
       "         0.09224855,  0.10784282],\n",
       "       [ 0.17026726,  0.01942684,  0.        , ...,  0.13889151,\n",
       "         0.10758046,  0.11091543],\n",
       "       ..., \n",
       "       [ 0.28233277,  0.14210911,  0.13889151, ...,  0.        ,\n",
       "         0.12799598,  0.05084809],\n",
       "       [ 0.27624027,  0.09224855,  0.10758046, ...,  0.12799598,\n",
       "         0.        ,  0.07714789],\n",
       "       [ 0.27283152,  0.10784282,  0.11091543, ...,  0.05084809,\n",
       "         0.07714789,  0.        ]])"
      ]
     },
     "execution_count": 66,
     "metadata": {},
     "output_type": "execute_result"
    }
   ],
   "source": [
    "algo_base.behavior_sim"
   ]
  },
  {
   "cell_type": "code",
   "execution_count": 68,
   "metadata": {
    "collapsed": false
   },
   "outputs": [],
   "source": [
    "fs_weight = FS_Weight()"
   ]
  },
  {
   "cell_type": "code",
   "execution_count": 69,
   "metadata": {
    "collapsed": false
   },
   "outputs": [
    {
     "name": "stdout",
     "output_type": "stream",
     "text": [
      "Computing the msd similarity matrix...\n",
      "Done computing similarity matrix.\n",
      "Computing the behavior similarity matrix...\n",
      "Done computing behavior similarity matrix\n"
     ]
    }
   ],
   "source": [
    "fs_weight.train(first_trainset)"
   ]
  },
  {
   "cell_type": "code",
   "execution_count": 71,
   "metadata": {
    "collapsed": false
   },
   "outputs": [
    {
     "data": {
      "text/plain": [
       "array([[ 0.5       ,  0.14004482,  0.12547945, ...,  0.14116638,\n",
       "         0.13812014,  0.13641576],\n",
       "       [ 0.14004482,  0.5       ,  0.17100374, ...,  0.07105455,\n",
       "         0.04612427,  0.05392141],\n",
       "       [ 0.12547945,  0.17100374,  0.5       , ...,  0.06944576,\n",
       "         0.05379023,  0.05545771],\n",
       "       ..., \n",
       "       [ 0.14116638,  0.07105455,  0.06944576, ...,  0.5       ,\n",
       "         0.06399799,  0.02542405],\n",
       "       [ 0.13812014,  0.04612427,  0.05379023, ...,  0.06399799,\n",
       "         0.5       ,  0.03857394],\n",
       "       [ 0.13641576,  0.05392141,  0.05545771, ...,  0.02542405,\n",
       "         0.03857394,  0.5       ]])"
      ]
     },
     "execution_count": 71,
     "metadata": {},
     "output_type": "execute_result"
    }
   ],
   "source": [
    "fs_weight.fusion_sim"
   ]
  },
  {
   "cell_type": "code",
   "execution_count": 72,
   "metadata": {
    "collapsed": true
   },
   "outputs": [],
   "source": [
    "fs_weight_result = pd.DataFrame.from_csv('FS_Weight_04-13-03-39')"
   ]
  },
  {
   "cell_type": "code",
   "execution_count": 97,
   "metadata": {
    "collapsed": false
   },
   "outputs": [
    {
     "data": {
      "text/html": [
       "<div>\n",
       "<table border=\"1\" class=\"dataframe\">\n",
       "  <thead>\n",
       "    <tr style=\"text-align: right;\">\n",
       "      <th></th>\n",
       "      <th>MAE</th>\n",
       "      <th>RMSE</th>\n",
       "      <th>alpha</th>\n",
       "      <th>beta</th>\n",
       "      <th>params</th>\n",
       "      <th>scores</th>\n",
       "    </tr>\n",
       "  </thead>\n",
       "  <tbody>\n",
       "    <tr>\n",
       "      <th>0</th>\n",
       "      <td>1.318974</td>\n",
       "      <td>1.674446</td>\n",
       "      <td>0.0</td>\n",
       "      <td>0.0</td>\n",
       "      <td>{'alpha': 0.0, 'beta': 0.0}</td>\n",
       "      <td>{'MAE': 1.3189738975087979, 'RMSE': 1.67444554...</td>\n",
       "    </tr>\n",
       "    <tr>\n",
       "      <th>1</th>\n",
       "      <td>1.303790</td>\n",
       "      <td>1.661751</td>\n",
       "      <td>0.0</td>\n",
       "      <td>0.2</td>\n",
       "      <td>{'alpha': 0.0, 'beta': 0.20000000000000001}</td>\n",
       "      <td>{'MAE': 1.3037898358829436, 'RMSE': 1.66175138...</td>\n",
       "    </tr>\n",
       "    <tr>\n",
       "      <th>2</th>\n",
       "      <td>1.282637</td>\n",
       "      <td>1.643834</td>\n",
       "      <td>0.0</td>\n",
       "      <td>0.4</td>\n",
       "      <td>{'alpha': 0.0, 'beta': 0.40000000000000002}</td>\n",
       "      <td>{'MAE': 1.2826371711205842, 'RMSE': 1.64383398...</td>\n",
       "    </tr>\n",
       "    <tr>\n",
       "      <th>3</th>\n",
       "      <td>1.247780</td>\n",
       "      <td>1.614840</td>\n",
       "      <td>0.0</td>\n",
       "      <td>0.6</td>\n",
       "      <td>{'alpha': 0.0, 'beta': 0.60000000000000009}</td>\n",
       "      <td>{'MAE': 1.2477799531144929, 'RMSE': 1.61484032...</td>\n",
       "    </tr>\n",
       "    <tr>\n",
       "      <th>4</th>\n",
       "      <td>1.181330</td>\n",
       "      <td>1.560049</td>\n",
       "      <td>0.0</td>\n",
       "      <td>0.8</td>\n",
       "      <td>{'alpha': 0.0, 'beta': 0.80000000000000004}</td>\n",
       "      <td>{'MAE': 1.1813296842700287, 'RMSE': 1.56004931...</td>\n",
       "    </tr>\n",
       "    <tr>\n",
       "      <th>5</th>\n",
       "      <td>1.040216</td>\n",
       "      <td>1.428452</td>\n",
       "      <td>0.0</td>\n",
       "      <td>1.0</td>\n",
       "      <td>{'alpha': 0.0, 'beta': 1.0}</td>\n",
       "      <td>{'MAE': 1.0402163864737168, 'RMSE': 1.42845206...</td>\n",
       "    </tr>\n",
       "    <tr>\n",
       "      <th>6</th>\n",
       "      <td>1.319184</td>\n",
       "      <td>1.674697</td>\n",
       "      <td>0.2</td>\n",
       "      <td>0.0</td>\n",
       "      <td>{'alpha': 0.20000000000000001, 'beta': 0.0}</td>\n",
       "      <td>{'MAE': 1.3191838646372396, 'RMSE': 1.67469711...</td>\n",
       "    </tr>\n",
       "    <tr>\n",
       "      <th>7</th>\n",
       "      <td>1.303988</td>\n",
       "      <td>1.661989</td>\n",
       "      <td>0.2</td>\n",
       "      <td>0.2</td>\n",
       "      <td>{'alpha': 0.20000000000000001, 'beta': 0.20000...</td>\n",
       "      <td>{'MAE': 1.3039877428608242, 'RMSE': 1.66198922...</td>\n",
       "    </tr>\n",
       "    <tr>\n",
       "      <th>8</th>\n",
       "      <td>1.282803</td>\n",
       "      <td>1.644018</td>\n",
       "      <td>0.2</td>\n",
       "      <td>0.4</td>\n",
       "      <td>{'alpha': 0.20000000000000001, 'beta': 0.40000...</td>\n",
       "      <td>{'MAE': 1.2828033183645555, 'RMSE': 1.64401760...</td>\n",
       "    </tr>\n",
       "    <tr>\n",
       "      <th>9</th>\n",
       "      <td>1.247915</td>\n",
       "      <td>1.614983</td>\n",
       "      <td>0.2</td>\n",
       "      <td>0.6</td>\n",
       "      <td>{'alpha': 0.20000000000000001, 'beta': 0.60000...</td>\n",
       "      <td>{'MAE': 1.2479154141307716, 'RMSE': 1.61498308...</td>\n",
       "    </tr>\n",
       "    <tr>\n",
       "      <th>10</th>\n",
       "      <td>1.181385</td>\n",
       "      <td>1.560104</td>\n",
       "      <td>0.2</td>\n",
       "      <td>0.8</td>\n",
       "      <td>{'alpha': 0.20000000000000001, 'beta': 0.80000...</td>\n",
       "      <td>{'MAE': 1.1813848720374414, 'RMSE': 1.56010359...</td>\n",
       "    </tr>\n",
       "    <tr>\n",
       "      <th>11</th>\n",
       "      <td>1.040216</td>\n",
       "      <td>1.428452</td>\n",
       "      <td>0.2</td>\n",
       "      <td>1.0</td>\n",
       "      <td>{'alpha': 0.20000000000000001, 'beta': 1.0}</td>\n",
       "      <td>{'MAE': 1.0402163864737168, 'RMSE': 1.42845206...</td>\n",
       "    </tr>\n",
       "    <tr>\n",
       "      <th>12</th>\n",
       "      <td>1.319347</td>\n",
       "      <td>1.674924</td>\n",
       "      <td>0.4</td>\n",
       "      <td>0.0</td>\n",
       "      <td>{'alpha': 0.40000000000000002, 'beta': 0.0}</td>\n",
       "      <td>{'MAE': 1.3193470478019698, 'RMSE': 1.67492368...</td>\n",
       "    </tr>\n",
       "    <tr>\n",
       "      <th>13</th>\n",
       "      <td>1.304160</td>\n",
       "      <td>1.662212</td>\n",
       "      <td>0.4</td>\n",
       "      <td>0.2</td>\n",
       "      <td>{'alpha': 0.40000000000000002, 'beta': 0.20000...</td>\n",
       "      <td>{'MAE': 1.3041596529837309, 'RMSE': 1.66221187...</td>\n",
       "    </tr>\n",
       "    <tr>\n",
       "      <th>14</th>\n",
       "      <td>1.282961</td>\n",
       "      <td>1.644209</td>\n",
       "      <td>0.4</td>\n",
       "      <td>0.4</td>\n",
       "      <td>{'alpha': 0.40000000000000002, 'beta': 0.40000...</td>\n",
       "      <td>{'MAE': 1.2829610953566588, 'RMSE': 1.64420869...</td>\n",
       "    </tr>\n",
       "    <tr>\n",
       "      <th>15</th>\n",
       "      <td>1.248022</td>\n",
       "      <td>1.615119</td>\n",
       "      <td>0.4</td>\n",
       "      <td>0.6</td>\n",
       "      <td>{'alpha': 0.40000000000000002, 'beta': 0.60000...</td>\n",
       "      <td>{'MAE': 1.2480221369984241, 'RMSE': 1.61511909...</td>\n",
       "    </tr>\n",
       "    <tr>\n",
       "      <th>16</th>\n",
       "      <td>1.181445</td>\n",
       "      <td>1.560169</td>\n",
       "      <td>0.4</td>\n",
       "      <td>0.8</td>\n",
       "      <td>{'alpha': 0.40000000000000002, 'beta': 0.80000...</td>\n",
       "      <td>{'MAE': 1.1814452719422872, 'RMSE': 1.56016852...</td>\n",
       "    </tr>\n",
       "    <tr>\n",
       "      <th>17</th>\n",
       "      <td>1.040216</td>\n",
       "      <td>1.428452</td>\n",
       "      <td>0.4</td>\n",
       "      <td>1.0</td>\n",
       "      <td>{'alpha': 0.40000000000000002, 'beta': 1.0}</td>\n",
       "      <td>{'MAE': 1.0402163864737168, 'RMSE': 1.42845206...</td>\n",
       "    </tr>\n",
       "    <tr>\n",
       "      <th>18</th>\n",
       "      <td>1.319474</td>\n",
       "      <td>1.675118</td>\n",
       "      <td>0.6</td>\n",
       "      <td>0.0</td>\n",
       "      <td>{'alpha': 0.60000000000000009, 'beta': 0.0}</td>\n",
       "      <td>{'MAE': 1.319474483760084, 'RMSE': 1.675117939...</td>\n",
       "    </tr>\n",
       "    <tr>\n",
       "      <th>19</th>\n",
       "      <td>1.304272</td>\n",
       "      <td>1.662377</td>\n",
       "      <td>0.6</td>\n",
       "      <td>0.2</td>\n",
       "      <td>{'alpha': 0.60000000000000009, 'beta': 0.20000...</td>\n",
       "      <td>{'MAE': 1.3042722197049157, 'RMSE': 1.66237696...</td>\n",
       "    </tr>\n",
       "    <tr>\n",
       "      <th>20</th>\n",
       "      <td>1.283056</td>\n",
       "      <td>1.644348</td>\n",
       "      <td>0.6</td>\n",
       "      <td>0.4</td>\n",
       "      <td>{'alpha': 0.60000000000000009, 'beta': 0.40000...</td>\n",
       "      <td>{'MAE': 1.2830558730785702, 'RMSE': 1.64434826...</td>\n",
       "    </tr>\n",
       "    <tr>\n",
       "      <th>21</th>\n",
       "      <td>1.248105</td>\n",
       "      <td>1.615234</td>\n",
       "      <td>0.6</td>\n",
       "      <td>0.6</td>\n",
       "      <td>{'alpha': 0.60000000000000009, 'beta': 0.60000...</td>\n",
       "      <td>{'MAE': 1.2481051749207719, 'RMSE': 1.61523377...</td>\n",
       "    </tr>\n",
       "    <tr>\n",
       "      <th>22</th>\n",
       "      <td>1.181483</td>\n",
       "      <td>1.560236</td>\n",
       "      <td>0.6</td>\n",
       "      <td>0.8</td>\n",
       "      <td>{'alpha': 0.60000000000000009, 'beta': 0.80000...</td>\n",
       "      <td>{'MAE': 1.1814827093423712, 'RMSE': 1.56023616...</td>\n",
       "    </tr>\n",
       "    <tr>\n",
       "      <th>23</th>\n",
       "      <td>1.040216</td>\n",
       "      <td>1.428452</td>\n",
       "      <td>0.6</td>\n",
       "      <td>1.0</td>\n",
       "      <td>{'alpha': 0.60000000000000009, 'beta': 1.0}</td>\n",
       "      <td>{'MAE': 1.0402163864737168, 'RMSE': 1.42845206...</td>\n",
       "    </tr>\n",
       "    <tr>\n",
       "      <th>24</th>\n",
       "      <td>1.319541</td>\n",
       "      <td>1.675231</td>\n",
       "      <td>0.8</td>\n",
       "      <td>0.0</td>\n",
       "      <td>{'alpha': 0.80000000000000004, 'beta': 0.0}</td>\n",
       "      <td>{'MAE': 1.3195409015785886, 'RMSE': 1.67523129...</td>\n",
       "    </tr>\n",
       "    <tr>\n",
       "      <th>25</th>\n",
       "      <td>1.304330</td>\n",
       "      <td>1.662479</td>\n",
       "      <td>0.8</td>\n",
       "      <td>0.2</td>\n",
       "      <td>{'alpha': 0.80000000000000004, 'beta': 0.20000...</td>\n",
       "      <td>{'MAE': 1.3043297705936943, 'RMSE': 1.66247922...</td>\n",
       "    </tr>\n",
       "    <tr>\n",
       "      <th>26</th>\n",
       "      <td>1.283104</td>\n",
       "      <td>1.644445</td>\n",
       "      <td>0.8</td>\n",
       "      <td>0.4</td>\n",
       "      <td>{'alpha': 0.80000000000000004, 'beta': 0.40000...</td>\n",
       "      <td>{'MAE': 1.28310354929923, 'RMSE': 1.6444450163...</td>\n",
       "    </tr>\n",
       "    <tr>\n",
       "      <th>27</th>\n",
       "      <td>1.248147</td>\n",
       "      <td>1.615308</td>\n",
       "      <td>0.8</td>\n",
       "      <td>0.6</td>\n",
       "      <td>{'alpha': 0.80000000000000004, 'beta': 0.60000...</td>\n",
       "      <td>{'MAE': 1.248146975539445, 'RMSE': 1.615308324...</td>\n",
       "    </tr>\n",
       "    <tr>\n",
       "      <th>28</th>\n",
       "      <td>1.181513</td>\n",
       "      <td>1.560296</td>\n",
       "      <td>0.8</td>\n",
       "      <td>0.8</td>\n",
       "      <td>{'alpha': 0.80000000000000004, 'beta': 0.80000...</td>\n",
       "      <td>{'MAE': 1.181512611555612, 'RMSE': 1.560295908...</td>\n",
       "    </tr>\n",
       "    <tr>\n",
       "      <th>29</th>\n",
       "      <td>1.040216</td>\n",
       "      <td>1.428452</td>\n",
       "      <td>0.8</td>\n",
       "      <td>1.0</td>\n",
       "      <td>{'alpha': 0.80000000000000004, 'beta': 1.0}</td>\n",
       "      <td>{'MAE': 1.0402163864737168, 'RMSE': 1.42845206...</td>\n",
       "    </tr>\n",
       "    <tr>\n",
       "      <th>30</th>\n",
       "      <td>1.319514</td>\n",
       "      <td>1.675230</td>\n",
       "      <td>1.0</td>\n",
       "      <td>0.0</td>\n",
       "      <td>{'alpha': 1.0, 'beta': 0.0}</td>\n",
       "      <td>{'MAE': 1.3195144517365003, 'RMSE': 1.67522979...</td>\n",
       "    </tr>\n",
       "    <tr>\n",
       "      <th>31</th>\n",
       "      <td>1.304309</td>\n",
       "      <td>1.662490</td>\n",
       "      <td>1.0</td>\n",
       "      <td>0.2</td>\n",
       "      <td>{'alpha': 1.0, 'beta': 0.20000000000000001}</td>\n",
       "      <td>{'MAE': 1.3043087846191297, 'RMSE': 1.66249000...</td>\n",
       "    </tr>\n",
       "    <tr>\n",
       "      <th>32</th>\n",
       "      <td>1.283101</td>\n",
       "      <td>1.644482</td>\n",
       "      <td>1.0</td>\n",
       "      <td>0.4</td>\n",
       "      <td>{'alpha': 1.0, 'beta': 0.40000000000000002}</td>\n",
       "      <td>{'MAE': 1.2831009611195592, 'RMSE': 1.64448233...</td>\n",
       "    </tr>\n",
       "    <tr>\n",
       "      <th>33</th>\n",
       "      <td>1.248163</td>\n",
       "      <td>1.615360</td>\n",
       "      <td>1.0</td>\n",
       "      <td>0.6</td>\n",
       "      <td>{'alpha': 1.0, 'beta': 0.60000000000000009}</td>\n",
       "      <td>{'MAE': 1.2481633625232009, 'RMSE': 1.61536024...</td>\n",
       "    </tr>\n",
       "    <tr>\n",
       "      <th>34</th>\n",
       "      <td>1.181519</td>\n",
       "      <td>1.560338</td>\n",
       "      <td>1.0</td>\n",
       "      <td>0.8</td>\n",
       "      <td>{'alpha': 1.0, 'beta': 0.80000000000000004}</td>\n",
       "      <td>{'MAE': 1.1815185303941236, 'RMSE': 1.56033768...</td>\n",
       "    </tr>\n",
       "    <tr>\n",
       "      <th>35</th>\n",
       "      <td>1.040216</td>\n",
       "      <td>1.428452</td>\n",
       "      <td>1.0</td>\n",
       "      <td>1.0</td>\n",
       "      <td>{'alpha': 1.0, 'beta': 1.0}</td>\n",
       "      <td>{'MAE': 1.0402163864737168, 'RMSE': 1.42845206...</td>\n",
       "    </tr>\n",
       "  </tbody>\n",
       "</table>\n",
       "</div>"
      ],
      "text/plain": [
       "         MAE      RMSE  alpha  beta  \\\n",
       "0   1.318974  1.674446    0.0   0.0   \n",
       "1   1.303790  1.661751    0.0   0.2   \n",
       "2   1.282637  1.643834    0.0   0.4   \n",
       "3   1.247780  1.614840    0.0   0.6   \n",
       "4   1.181330  1.560049    0.0   0.8   \n",
       "5   1.040216  1.428452    0.0   1.0   \n",
       "6   1.319184  1.674697    0.2   0.0   \n",
       "7   1.303988  1.661989    0.2   0.2   \n",
       "8   1.282803  1.644018    0.2   0.4   \n",
       "9   1.247915  1.614983    0.2   0.6   \n",
       "10  1.181385  1.560104    0.2   0.8   \n",
       "11  1.040216  1.428452    0.2   1.0   \n",
       "12  1.319347  1.674924    0.4   0.0   \n",
       "13  1.304160  1.662212    0.4   0.2   \n",
       "14  1.282961  1.644209    0.4   0.4   \n",
       "15  1.248022  1.615119    0.4   0.6   \n",
       "16  1.181445  1.560169    0.4   0.8   \n",
       "17  1.040216  1.428452    0.4   1.0   \n",
       "18  1.319474  1.675118    0.6   0.0   \n",
       "19  1.304272  1.662377    0.6   0.2   \n",
       "20  1.283056  1.644348    0.6   0.4   \n",
       "21  1.248105  1.615234    0.6   0.6   \n",
       "22  1.181483  1.560236    0.6   0.8   \n",
       "23  1.040216  1.428452    0.6   1.0   \n",
       "24  1.319541  1.675231    0.8   0.0   \n",
       "25  1.304330  1.662479    0.8   0.2   \n",
       "26  1.283104  1.644445    0.8   0.4   \n",
       "27  1.248147  1.615308    0.8   0.6   \n",
       "28  1.181513  1.560296    0.8   0.8   \n",
       "29  1.040216  1.428452    0.8   1.0   \n",
       "30  1.319514  1.675230    1.0   0.0   \n",
       "31  1.304309  1.662490    1.0   0.2   \n",
       "32  1.283101  1.644482    1.0   0.4   \n",
       "33  1.248163  1.615360    1.0   0.6   \n",
       "34  1.181519  1.560338    1.0   0.8   \n",
       "35  1.040216  1.428452    1.0   1.0   \n",
       "\n",
       "                                               params  \\\n",
       "0                         {'alpha': 0.0, 'beta': 0.0}   \n",
       "1         {'alpha': 0.0, 'beta': 0.20000000000000001}   \n",
       "2         {'alpha': 0.0, 'beta': 0.40000000000000002}   \n",
       "3         {'alpha': 0.0, 'beta': 0.60000000000000009}   \n",
       "4         {'alpha': 0.0, 'beta': 0.80000000000000004}   \n",
       "5                         {'alpha': 0.0, 'beta': 1.0}   \n",
       "6         {'alpha': 0.20000000000000001, 'beta': 0.0}   \n",
       "7   {'alpha': 0.20000000000000001, 'beta': 0.20000...   \n",
       "8   {'alpha': 0.20000000000000001, 'beta': 0.40000...   \n",
       "9   {'alpha': 0.20000000000000001, 'beta': 0.60000...   \n",
       "10  {'alpha': 0.20000000000000001, 'beta': 0.80000...   \n",
       "11        {'alpha': 0.20000000000000001, 'beta': 1.0}   \n",
       "12        {'alpha': 0.40000000000000002, 'beta': 0.0}   \n",
       "13  {'alpha': 0.40000000000000002, 'beta': 0.20000...   \n",
       "14  {'alpha': 0.40000000000000002, 'beta': 0.40000...   \n",
       "15  {'alpha': 0.40000000000000002, 'beta': 0.60000...   \n",
       "16  {'alpha': 0.40000000000000002, 'beta': 0.80000...   \n",
       "17        {'alpha': 0.40000000000000002, 'beta': 1.0}   \n",
       "18        {'alpha': 0.60000000000000009, 'beta': 0.0}   \n",
       "19  {'alpha': 0.60000000000000009, 'beta': 0.20000...   \n",
       "20  {'alpha': 0.60000000000000009, 'beta': 0.40000...   \n",
       "21  {'alpha': 0.60000000000000009, 'beta': 0.60000...   \n",
       "22  {'alpha': 0.60000000000000009, 'beta': 0.80000...   \n",
       "23        {'alpha': 0.60000000000000009, 'beta': 1.0}   \n",
       "24        {'alpha': 0.80000000000000004, 'beta': 0.0}   \n",
       "25  {'alpha': 0.80000000000000004, 'beta': 0.20000...   \n",
       "26  {'alpha': 0.80000000000000004, 'beta': 0.40000...   \n",
       "27  {'alpha': 0.80000000000000004, 'beta': 0.60000...   \n",
       "28  {'alpha': 0.80000000000000004, 'beta': 0.80000...   \n",
       "29        {'alpha': 0.80000000000000004, 'beta': 1.0}   \n",
       "30                        {'alpha': 1.0, 'beta': 0.0}   \n",
       "31        {'alpha': 1.0, 'beta': 0.20000000000000001}   \n",
       "32        {'alpha': 1.0, 'beta': 0.40000000000000002}   \n",
       "33        {'alpha': 1.0, 'beta': 0.60000000000000009}   \n",
       "34        {'alpha': 1.0, 'beta': 0.80000000000000004}   \n",
       "35                        {'alpha': 1.0, 'beta': 1.0}   \n",
       "\n",
       "                                               scores  \n",
       "0   {'MAE': 1.3189738975087979, 'RMSE': 1.67444554...  \n",
       "1   {'MAE': 1.3037898358829436, 'RMSE': 1.66175138...  \n",
       "2   {'MAE': 1.2826371711205842, 'RMSE': 1.64383398...  \n",
       "3   {'MAE': 1.2477799531144929, 'RMSE': 1.61484032...  \n",
       "4   {'MAE': 1.1813296842700287, 'RMSE': 1.56004931...  \n",
       "5   {'MAE': 1.0402163864737168, 'RMSE': 1.42845206...  \n",
       "6   {'MAE': 1.3191838646372396, 'RMSE': 1.67469711...  \n",
       "7   {'MAE': 1.3039877428608242, 'RMSE': 1.66198922...  \n",
       "8   {'MAE': 1.2828033183645555, 'RMSE': 1.64401760...  \n",
       "9   {'MAE': 1.2479154141307716, 'RMSE': 1.61498308...  \n",
       "10  {'MAE': 1.1813848720374414, 'RMSE': 1.56010359...  \n",
       "11  {'MAE': 1.0402163864737168, 'RMSE': 1.42845206...  \n",
       "12  {'MAE': 1.3193470478019698, 'RMSE': 1.67492368...  \n",
       "13  {'MAE': 1.3041596529837309, 'RMSE': 1.66221187...  \n",
       "14  {'MAE': 1.2829610953566588, 'RMSE': 1.64420869...  \n",
       "15  {'MAE': 1.2480221369984241, 'RMSE': 1.61511909...  \n",
       "16  {'MAE': 1.1814452719422872, 'RMSE': 1.56016852...  \n",
       "17  {'MAE': 1.0402163864737168, 'RMSE': 1.42845206...  \n",
       "18  {'MAE': 1.319474483760084, 'RMSE': 1.675117939...  \n",
       "19  {'MAE': 1.3042722197049157, 'RMSE': 1.66237696...  \n",
       "20  {'MAE': 1.2830558730785702, 'RMSE': 1.64434826...  \n",
       "21  {'MAE': 1.2481051749207719, 'RMSE': 1.61523377...  \n",
       "22  {'MAE': 1.1814827093423712, 'RMSE': 1.56023616...  \n",
       "23  {'MAE': 1.0402163864737168, 'RMSE': 1.42845206...  \n",
       "24  {'MAE': 1.3195409015785886, 'RMSE': 1.67523129...  \n",
       "25  {'MAE': 1.3043297705936943, 'RMSE': 1.66247922...  \n",
       "26  {'MAE': 1.28310354929923, 'RMSE': 1.6444450163...  \n",
       "27  {'MAE': 1.248146975539445, 'RMSE': 1.615308324...  \n",
       "28  {'MAE': 1.181512611555612, 'RMSE': 1.560295908...  \n",
       "29  {'MAE': 1.0402163864737168, 'RMSE': 1.42845206...  \n",
       "30  {'MAE': 1.3195144517365003, 'RMSE': 1.67522979...  \n",
       "31  {'MAE': 1.3043087846191297, 'RMSE': 1.66249000...  \n",
       "32  {'MAE': 1.2831009611195592, 'RMSE': 1.64448233...  \n",
       "33  {'MAE': 1.2481633625232009, 'RMSE': 1.61536024...  \n",
       "34  {'MAE': 1.1815185303941236, 'RMSE': 1.56033768...  \n",
       "35  {'MAE': 1.0402163864737168, 'RMSE': 1.42845206...  "
      ]
     },
     "execution_count": 97,
     "metadata": {},
     "output_type": "execute_result"
    }
   ],
   "source": [
    "fs_weight_result"
   ]
  },
  {
   "cell_type": "code",
   "execution_count": 81,
   "metadata": {
    "collapsed": true
   },
   "outputs": [],
   "source": [
    "n_users = algo_base.trainset.n_users"
   ]
  },
  {
   "cell_type": "code",
   "execution_count": 82,
   "metadata": {
    "collapsed": false
   },
   "outputs": [
    {
     "data": {
      "text/plain": [
       "971"
      ]
     },
     "execution_count": 82,
     "metadata": {},
     "output_type": "execute_result"
    }
   ],
   "source": [
    "n_users"
   ]
  },
  {
   "cell_type": "code",
   "execution_count": 84,
   "metadata": {
    "collapsed": false
   },
   "outputs": [],
   "source": [
    "placeholder = np.empty((n_users, n_users), dtype=bool)\n",
    "\n",
    "user_rating_items = {}\n",
    "\n",
    "for u in range(n_users):\n",
    "    user_rating_items[u] = [item for item, rating in algo_base.trainset.ur[u]]"
   ]
  },
  {
   "cell_type": "code",
   "execution_count": 88,
   "metadata": {
    "collapsed": false
   },
   "outputs": [],
   "source": [
    "for i in range(n_users):\n",
    "    for j in range(n_users):\n",
    "        common_rate_count = len(np.intersect1d(user_rating_items[i], user_rating_items[j]))\n",
    "        if common_rate_count > 10:\n",
    "            placeholder[i, j] = True\n",
    "        else:\n",
    "            placeholder[i, j] = False"
   ]
  },
  {
   "cell_type": "code",
   "execution_count": 89,
   "metadata": {
    "collapsed": false
   },
   "outputs": [
    {
     "data": {
      "text/plain": [
       "array([[ True,  True,  True, ..., False, False, False],\n",
       "       [ True,  True,  True, ..., False, False, False],\n",
       "       [ True,  True,  True, ..., False, False, False],\n",
       "       ..., \n",
       "       [False, False, False, ..., False, False, False],\n",
       "       [False, False, False, ..., False, False, False],\n",
       "       [False, False, False, ..., False, False, False]], dtype=bool)"
      ]
     },
     "execution_count": 89,
     "metadata": {},
     "output_type": "execute_result"
    }
   ],
   "source": [
    "placeholder"
   ]
  },
  {
   "cell_type": "code",
   "execution_count": 94,
   "metadata": {
    "collapsed": false
   },
   "outputs": [
    {
     "data": {
      "text/plain": [
       "array([[ 1.        ,  0.09608091,  0.08069164, ...,  0.28233277,\n",
       "         0.27624027,  0.27283152],\n",
       "       [ 0.09608091,  1.        ,  0.32258065, ...,  0.14210911,\n",
       "         0.09224855,  0.10784282],\n",
       "       [ 0.08069164,  0.32258065,  1.        , ...,  0.13889151,\n",
       "         0.10758046,  0.11091543],\n",
       "       ..., \n",
       "       [ 0.28233277,  0.14210911,  0.13889151, ...,  0.        ,\n",
       "         0.12799598,  0.05084809],\n",
       "       [ 0.27624027,  0.09224855,  0.10758046, ...,  0.12799598,\n",
       "         0.        ,  0.07714789],\n",
       "       [ 0.27283152,  0.10784282,  0.11091543, ...,  0.05084809,\n",
       "         0.07714789,  0.        ]])"
      ]
     },
     "execution_count": 94,
     "metadata": {},
     "output_type": "execute_result"
    }
   ],
   "source": [
    "np.where(placeholder, algo_base.sim, algo_base.behavior_sim)"
   ]
  },
  {
   "cell_type": "code",
   "execution_count": 96,
   "metadata": {
    "collapsed": false
   },
   "outputs": [
    {
     "data": {
      "text/plain": [
       "array([[ 0.        ,  0.18400873,  0.17026726, ...,  0.28233277,\n",
       "         0.27624027,  0.27283152],\n",
       "       [ 0.18400873,  0.        ,  0.01942684, ...,  0.14210911,\n",
       "         0.09224855,  0.10784282],\n",
       "       [ 0.17026726,  0.01942684,  0.        , ...,  0.13889151,\n",
       "         0.10758046,  0.11091543],\n",
       "       ..., \n",
       "       [ 0.28233277,  0.14210911,  0.13889151, ...,  0.        ,\n",
       "         0.12799598,  0.05084809],\n",
       "       [ 0.27624027,  0.09224855,  0.10758046, ...,  0.12799598,\n",
       "         0.        ,  0.07714789],\n",
       "       [ 0.27283152,  0.10784282,  0.11091543, ...,  0.05084809,\n",
       "         0.07714789,  0.        ]])"
      ]
     },
     "execution_count": 96,
     "metadata": {},
     "output_type": "execute_result"
    }
   ],
   "source": [
    "algo_base.behavior_sim"
   ]
  },
  {
   "cell_type": "code",
   "execution_count": 98,
   "metadata": {
    "collapsed": true
   },
   "outputs": [],
   "source": [
    "_file = file('new_usr_ratings.txt')"
   ]
  },
  {
   "cell_type": "code",
   "execution_count": 99,
   "metadata": {
    "collapsed": true
   },
   "outputs": [],
   "source": [
    "a = _file.readlines()"
   ]
  },
  {
   "cell_type": "code",
   "execution_count": 101,
   "metadata": {
    "collapsed": false
   },
   "outputs": [],
   "source": [
    "import random"
   ]
  },
  {
   "cell_type": "code",
   "execution_count": 102,
   "metadata": {
    "collapsed": true
   },
   "outputs": [],
   "source": [
    "random.shuffle(a)"
   ]
  },
  {
   "cell_type": "code",
   "execution_count": 104,
   "metadata": {
    "collapsed": false
   },
   "outputs": [
    {
     "data": {
      "text/plain": [
       "587596"
      ]
     },
     "execution_count": 104,
     "metadata": {},
     "output_type": "execute_result"
    }
   ],
   "source": [
    "len(a)"
   ]
  },
  {
   "cell_type": "code",
   "execution_count": 105,
   "metadata": {
    "collapsed": true
   },
   "outputs": [],
   "source": [
    "length = len(a) * 2 / 3"
   ]
  },
  {
   "cell_type": "code",
   "execution_count": 106,
   "metadata": {
    "collapsed": false
   },
   "outputs": [
    {
     "data": {
      "text/plain": [
       "391730"
      ]
     },
     "execution_count": 106,
     "metadata": {},
     "output_type": "execute_result"
    }
   ],
   "source": [
    "length"
   ]
  },
  {
   "cell_type": "code",
   "execution_count": 108,
   "metadata": {
    "collapsed": false
   },
   "outputs": [
    {
     "data": {
      "text/plain": [
       "391730"
      ]
     },
     "execution_count": 108,
     "metadata": {},
     "output_type": "execute_result"
    }
   ],
   "source": [
    "len(a[0:length])"
   ]
  },
  {
   "cell_type": "code",
   "execution_count": 109,
   "metadata": {
    "collapsed": false
   },
   "outputs": [
    {
     "data": {
      "text/plain": [
       "['jadycheung:3541415:4\\n',\n",
       " 'FUNA:10605978:0\\n',\n",
       " 'snakewong:1292722:5\\n',\n",
       " 'pvcflooring:6146955:5\\n',\n",
       " 'jadycheung:4271894:5\\n',\n",
       " 'justseverin:5681006:0\\n',\n",
       " 'chenolivia:11529526:3\\n',\n",
       " '73399489:6844900:1\\n',\n",
       " 'lightwing86:2027933:4\\n',\n",
       " 'joypig:1293731:0\\n',\n",
       " 'HeresyBreak:11527487:4\\n',\n",
       " 'sophie1900:26351867:5\\n',\n",
       " 'peach_thy:2124724:3\\n',\n",
       " '33620259:1291832:4\\n',\n",
       " 'Lai-_-:22759752:3\\n',\n",
       " 'jadycheung:2043465:3\\n',\n",
       " 'fxee:2080133:0\\n',\n",
       " 'momo13-:2148257:4\\n',\n",
       " '54588016:26265170:0\\n',\n",
       " 'Ozu:6952149:5\\n',\n",
       " 'ohjoo:6710798:3\\n',\n",
       " '57634132:24703986:4\\n',\n",
       " 'zeus93:3600972:0\\n',\n",
       " 'fxee:25858785:1\\n',\n",
       " 'TERRYBEAR:2994961:0\\n',\n",
       " 'luzhiyu:3041281:3\\n',\n",
       " '45765669:1410556:3\\n',\n",
       " 'shinylinshan:1937621:5\\n',\n",
       " '70263096:20513355:5\\n',\n",
       " 'kn0537:6537486:3\\n',\n",
       " 'bdhztian:24522982:0\\n',\n",
       " 'wyxwyx1993:24751756:4\\n',\n",
       " 'lephemera:2336785:3\\n',\n",
       " 'jinzeyu007:1417555:3\\n',\n",
       " '46643232:1295686:4\\n',\n",
       " '1719006:10733231:2\\n',\n",
       " 'redkop:1294202:4\\n',\n",
       " 'yinxiang:1986080:4\\n',\n",
       " '46376950:5985961:5\\n',\n",
       " 'hana.x:1476973:0\\n',\n",
       " '54927633:1293350:0\\n',\n",
       " 'nonmoral:5989818:4\\n',\n",
       " '3569340:3789848:0\\n',\n",
       " 'mwgcool:26413306:1\\n',\n",
       " '46643232:1299383:4\\n',\n",
       " 'zeus93:3148748:4\\n',\n",
       " 'aegeansea1012:1298694:4\\n',\n",
       " 'luzhiyu:2124411:4\\n',\n",
       " 'EtudeInEMajor:1929463:5\\n',\n",
       " 'takodajang:26435723:4\\n',\n",
       " '3341866:2978224:4\\n',\n",
       " '1069770:3819939:4\\n',\n",
       " 'dogfishourse:2085029:3\\n',\n",
       " 'geekieo:26000205:3\\n',\n",
       " 'voici-voila:4139833:2\\n',\n",
       " '1514019:1305114:2\\n',\n",
       " '2238810:1293929:4\\n',\n",
       " 'FUNA:10482125:0\\n',\n",
       " 'Ambergreen:1915312:5\\n',\n",
       " 'Ozu:1293310:5\\n',\n",
       " 'ClairehA:4824512:3\\n',\n",
       " 'yinxiang:1299582:5\\n',\n",
       " '125778633:1308820:5\\n',\n",
       " '64873901:6013893:5\\n',\n",
       " 'sophie1900:1418190:3\\n',\n",
       " 'HaleyZZ:3927750:4\\n',\n",
       " 'szean:1877016:4\\n',\n",
       " '5617300:1292063:0\\n',\n",
       " 'takodajang:26383476:3\\n',\n",
       " 'yinxiang:1480322:3\\n',\n",
       " 'artshapedworld:1304970:0\\n',\n",
       " 'sara.x:2357374:0\\n',\n",
       " '25688154:25845400:5\\n',\n",
       " 'manhuamao:1388216:5\\n',\n",
       " '4070241:6757776:0\\n',\n",
       " '5617300:10573499:4\\n',\n",
       " 'Lejokin:3658905:4\\n',\n",
       " 'w8j25:1308855:3\\n',\n",
       " 'yfqc24pippo:1307548:4\\n',\n",
       " 'zhouruopei:26354572:4\\n',\n",
       " '2010006:1294789:3\\n',\n",
       " '89992346:21937450:4\\n',\n",
       " '18099799:1585146:3\\n',\n",
       " '55912621:25723907:2\\n',\n",
       " 'sara.x:2367825:5\\n',\n",
       " 'pvcflooring:10808442:5\\n',\n",
       " 'lulu.madrid:1291843:5\\n',\n",
       " 'mrsbonbon:2129132:0\\n',\n",
       " '60302594:1966182:3\\n',\n",
       " '4119949:3072124:5\\n',\n",
       " 'xuguanyu1381:2148257:5\\n',\n",
       " 'ohjoo:2133468:2\\n',\n",
       " 'gainaxian:25838216:3\\n',\n",
       " 'liangxinyin:10727641:4\\n',\n",
       " 'eleanorgoround:4176578:4\\n',\n",
       " 'Gemini_Pipi:1291579:4\\n',\n",
       " '130866861:1433330:5\\n',\n",
       " 'lostgirl:2059310:4\\n',\n",
       " 'BlueePrins:6799191:5\\n',\n",
       " '47746859:3289086:0\\n',\n",
       " '48249506:21360417:4\\n',\n",
       " 'zhushejia:3259416:5\\n',\n",
       " '64259939:6874456:4\\n',\n",
       " 'HeroineDaode:25662337:1\\n',\n",
       " '56188946:1947144:4\\n',\n",
       " '54902656:26668750:3\\n',\n",
       " 'drtsb:2282473:0\\n',\n",
       " '85239246:6827727:3\\n',\n",
       " 'geekieo:1299327:3\\n',\n",
       " 'wangbingyu:1309088:4\\n',\n",
       " '53828979:1292062:4\\n',\n",
       " '139123958:2130853:4\\n',\n",
       " '82851721:1292208:4\\n',\n",
       " 'AubreySoong:6900035:4\\n',\n",
       " 'lulu.madrid:1293203:5\\n',\n",
       " 'yfqc24pippo:2214140:2\\n',\n",
       " '4119949:25947154:4\\n',\n",
       " '2256415:1292577:3\\n',\n",
       " 'slowfood:1867408:0\\n',\n",
       " '57507262:10604893:1\\n',\n",
       " '120845613:3742949:3\\n',\n",
       " 'takodajang:25897313:3\\n',\n",
       " 'peach_thy:26717795:3\\n',\n",
       " 'cb0_0:25919910:3\\n',\n",
       " '123404248:1482495:3\\n',\n",
       " 'pvcflooring:1300616:5\\n',\n",
       " 'falling__slowly:2083944:3\\n',\n",
       " '147762578:1292722:5\\n',\n",
       " '78712739:6041817:4\\n',\n",
       " 'sanfer:1858802:4\\n',\n",
       " 'lingyun93:2998253:4\\n',\n",
       " 'zhouruopei:4253448:3\\n',\n",
       " 'zhouruopei:1758336:2\\n',\n",
       " '4723556:1294693:4\\n',\n",
       " 'wudaxi:1293849:0\\n',\n",
       " 'liangxinyin:5154799:3\\n',\n",
       " '35244947:3284269:4\\n',\n",
       " '51225621:1305257:0\\n',\n",
       " 'takodajang:10808371:4\\n',\n",
       " '6160158:2213597:2\\n',\n",
       " 'Levora:6729183:4\\n',\n",
       " 'twooneseven:3073124:5\\n',\n",
       " '3847622:21352814:0\\n',\n",
       " 'Ambergreen:2244359:0\\n',\n",
       " '68034459:26924729:3\\n',\n",
       " 'turbine:1827713:0\\n',\n",
       " 'maolingxiao:10763157:4\\n',\n",
       " '4166635:2146991:3\\n',\n",
       " 'conanemily:1423038:5\\n',\n",
       " 'st-Nadia:26280528:4\\n',\n",
       " '55550016:2153526:4\\n',\n",
       " '64259939:1305394:4\\n',\n",
       " '10241572:7015714:0\\n',\n",
       " 'stayreal13:2368587:3\\n',\n",
       " 'farmer-son:1295253:4\\n',\n",
       " '50167115:2214026:4\\n',\n",
       " 'nanka:19973780:4\\n',\n",
       " 'turbine:1907465:3\\n',\n",
       " 'redrock24:3074503:4\\n',\n",
       " '52865931:25723907:3\\n',\n",
       " 'lxdamy:4889464:1\\n',\n",
       " 'gainaxian:1868515:5\\n',\n",
       " 'trampbowang:1293181:4\\n',\n",
       " 'takodajang:4707585:2\\n',\n",
       " 'zurich0o0:24827387:3\\n',\n",
       " '125373467:4313109:4\\n',\n",
       " 'Lai-_-:1291999:5\\n',\n",
       " 'tsaitsai521:1307914:3\\n',\n",
       " 'Huxinghang510:1302476:3\\n',\n",
       " 'conanemily:1294978:5\\n',\n",
       " '72805274:26811832:4\\n',\n",
       " '67654909:26320029:4\\n',\n",
       " 'mzxwx:26219652:2\\n',\n",
       " 'msniarockhead:2072478:3\\n',\n",
       " 'YOU87:5941455:4\\n',\n",
       " 'samsam.:24697949:5\\n',\n",
       " '67333615:2028840:4\\n',\n",
       " 'lovingAngela:26307755:5\\n',\n",
       " 'SuHangKing:6872244:3\\n',\n",
       " '56258464:3240208:3\\n',\n",
       " '3914117:1305265:4\\n',\n",
       " 'tsaitsai521:11606408:5\\n',\n",
       " 'sliaobellamy:26652097:2\\n',\n",
       " '72440421:1292211:4\\n',\n",
       " '57460299:1304253:5\\n',\n",
       " '104991310:25727048:4\\n',\n",
       " '82851721:26822683:1\\n',\n",
       " 'bdhztian:10594965:3\\n',\n",
       " '69005715:3176523:0\\n',\n",
       " '3351253:1853752:0\\n',\n",
       " 'xiao.n.:2148257:3\\n',\n",
       " 'HugoVince:6875263:3\\n',\n",
       " 'EtudeInEMajor:6037429:4\\n',\n",
       " 'w8j25:25864085:4\\n',\n",
       " '28974994:10590706:5\\n',\n",
       " 'luzhiyu:5414527:4\\n',\n",
       " '120845613:4304402:4\\n',\n",
       " 'pvcflooring:25850443:4\\n',\n",
       " 'sanfer:1408100:5\\n',\n",
       " '4070241:3564499:0\\n',\n",
       " 'ChaimWong:6875263:3\\n',\n",
       " '144001347:1291560:5\\n',\n",
       " '1514019:21318488:5\\n',\n",
       " 'PiggyOgre:26683290:4\\n',\n",
       " 'sliaobellamy:20438962:5\\n',\n",
       " 'lowkey7:11610281:3\\n',\n",
       " '70284791:1291560:0\\n',\n",
       " '75215757:1972698:5\\n',\n",
       " 'goldentung:1417237:3\\n',\n",
       " '46376950:5384548:5\\n',\n",
       " 'simonexuyang:5327463:2\\n',\n",
       " 'liarb:3155477:4\\n',\n",
       " 'irisji8990:4888039:4\\n',\n",
       " '51016659:2044089:3\\n',\n",
       " 'colorfulkid:1292064:0\\n',\n",
       " '2346731:3443389:0\\n',\n",
       " 'lost.pilllow:1292934:3\\n',\n",
       " '55374268:1305257:4\\n',\n",
       " '29149296:5360890:0\\n',\n",
       " '75215757:26279688:2\\n',\n",
       " '41979840:1972729:5\\n',\n",
       " 'turbine:1292348:3\\n',\n",
       " 'gloomsky:1307695:2\\n',\n",
       " '44470776:1303173:4\\n',\n",
       " '67725912:1292434:5\\n',\n",
       " '46643232:1478926:3\\n',\n",
       " 'yfqc24pippo:2044089:4\\n',\n",
       " 'artshapedworld:25864085:4\\n',\n",
       " 'PiggyOgre:1293632:3\\n',\n",
       " 'bayer04040404:5966203:4\\n',\n",
       " '37889499:3430271:3\\n',\n",
       " 'lerystyle:1499008:3\\n',\n",
       " '53540602:21318488:5\\n',\n",
       " 'xyiyi:3011335:2\\n',\n",
       " 'skferb:25897313:4\\n',\n",
       " 'zwj514235:3838283:0\\n',\n",
       " '53488315:1578669:2\\n',\n",
       " 'gainaxian:1308245:3\\n',\n",
       " 'zurich0o0:3649049:4\\n',\n",
       " 'ohjoo:3072086:3\\n',\n",
       " '2313690:10746175:4\\n',\n",
       " 'raja:11531725:0\\n',\n",
       " '2447518:1433736:3\\n',\n",
       " '78079483:10440138:4\\n',\n",
       " '41263439:1293460:4\\n',\n",
       " 'ChaimWong:25845205:4\\n',\n",
       " 'caisp:1291571:4\\n',\n",
       " '2437987:2153527:3\\n',\n",
       " 'zwj514235:1294240:5\\n',\n",
       " 'yolanta1030:1293173:3\\n',\n",
       " '78231700:3025375:5\\n',\n",
       " '46333858:1300945:4\\n',\n",
       " '51774719:26022182:5\\n',\n",
       " 'disinlok:1867332:2\\n',\n",
       " 'luzhiyu:1781636:4\\n',\n",
       " 'sliaobellamy:26271868:3\\n',\n",
       " 'jinzeyu007:2124724:3\\n',\n",
       " 'PiggyOgre:1295684:4\\n',\n",
       " 'missbirdy:5282454:1\\n',\n",
       " 'yfqc24pippo:20388224:4\\n',\n",
       " 'whoeverblue:3764496:0\\n',\n",
       " '1049890:1301445:3\\n',\n",
       " 'yfqc24pippo:1308699:1\\n',\n",
       " 'lulu.madrid:1865561:5\\n',\n",
       " 'gainaxian:1468491:4\\n',\n",
       " '65298894:1309199:0\\n',\n",
       " '46643232:2303845:4\\n',\n",
       " '45860434:4305436:0\\n',\n",
       " '57507262:6082517:2\\n',\n",
       " '143292213:4202099:4\\n',\n",
       " 'lingyun93:3212398:4\\n',\n",
       " '2447518:1293124:4\\n',\n",
       " 'irisdd:1304397:5\\n',\n",
       " 'lightwing86:3892376:4\\n',\n",
       " 'luzhiyu:26801073:3\\n',\n",
       " '73399489:1994879:3\\n',\n",
       " 'ChaimWong:2336785:0\\n',\n",
       " '2137049:1291564:0\\n',\n",
       " '63125194:1306249:0\\n',\n",
       " 'hazelhan:1867345:5\\n',\n",
       " 'szdouban:25805741:3\\n',\n",
       " '1287157:21441132:2\\n',\n",
       " '37241296:4321270:5\\n',\n",
       " '136207706:26280528:2\\n',\n",
       " 'Ozu:1939414:2\\n',\n",
       " '4070241:2996790:0\\n',\n",
       " 'xiaoxu1987:2139553:3\\n',\n",
       " '48235173:3592854:0\\n',\n",
       " 'canx:1309101:0\\n',\n",
       " '47746859:26677495:5\\n',\n",
       " 'faye0520:2181930:0\\n',\n",
       " 'mwgcool:20254219:3\\n',\n",
       " '2465629:11639536:4\\n',\n",
       " 'faye0520:1309217:3\\n',\n",
       " 'jocelyn701:26325320:4\\n',\n",
       " '45601456:1308747:3\\n',\n",
       " '140064558:1291560:5\\n',\n",
       " 'puderty:1305003:3\\n',\n",
       " 'sea_cat:3011072:4\\n',\n",
       " '46333858:4804079:4\\n',\n",
       " 'ahuihaihai:1294262:4\\n',\n",
       " 'conanemily:3073206:4\\n',\n",
       " 'epwoa:1294540:5\\n',\n",
       " 'Lejokin:3011979:1\\n',\n",
       " 'luzhiyu:1307818:4\\n',\n",
       " 'wubo:1951500:3\\n',\n",
       " '120845613:1291839:5\\n',\n",
       " '114300394:25743807:1\\n',\n",
       " 'lingyun93:1306334:3\\n',\n",
       " '3891102:10577869:4\\n',\n",
       " 'canx:1292271:4\\n',\n",
       " '7893304:21350556:1\\n',\n",
       " '2471325:1947089:3\\n',\n",
       " 'lingci:24879858:0\\n',\n",
       " 'yinxiang:2028765:3\\n',\n",
       " '84706959:24872023:3\\n',\n",
       " 'lsmh:1293118:5\\n',\n",
       " 'lost.pilllow:1857099:0\\n',\n",
       " 'peach52:25978126:3\\n',\n",
       " 'wanfang:3566709:0\\n',\n",
       " '3847622:4917726:0\\n',\n",
       " 'momo13-:1309088:3\\n',\n",
       " 'jocelyn701:1291866:3\\n',\n",
       " '56258464:26410594:4\\n',\n",
       " 'kimmyaloha:6517421:3\\n',\n",
       " 'lightwing86:4910183:4\\n',\n",
       " 'lulu.madrid:25890005:5\\n',\n",
       " 'Solitude.F:10467125:5\\n',\n",
       " '33620259:4073898:1\\n',\n",
       " 'silveryvoice:2031586:3\\n',\n",
       " 'culinus:2297265:4\\n',\n",
       " 'yungweitung:4328236:1\\n',\n",
       " '49229485:25819229:3\\n',\n",
       " 'zhuangdikun:1293182:5\\n',\n",
       " 'reglisse:1308807:5\\n',\n",
       " '52155424:2028677:4\\n',\n",
       " 'M.chaton:24289477:2\\n',\n",
       " 'godblessrobin:3233761:4\\n',\n",
       " 'irisji8990:10788845:3\\n',\n",
       " 'drtsb:1303579:0\\n',\n",
       " 'bbjh:1303173:4\\n',\n",
       " 'PiggyOgre:3626365:3\\n',\n",
       " '62995545:3443389:4\\n',\n",
       " '1395153:6110546:4\\n',\n",
       " 'sweetleafyang:3287562:0\\n',\n",
       " '52155424:2999913:4\\n',\n",
       " 'TERRYBEAR:25839662:4\\n',\n",
       " 'kakabu:25864085:3\\n',\n",
       " 'nanka:1291564:4\\n',\n",
       " '139123958:3794145:5\\n',\n",
       " 'bayer04040404:5149279:5\\n',\n",
       " 'linjunzhe:1299643:0\\n',\n",
       " 'seixi:1299607:5\\n',\n",
       " '45860434:6872273:0\\n',\n",
       " 'yizhibanjie:1578507:0\\n',\n",
       " '2238810:1796939:4\\n',\n",
       " 'findlyandlan:10480956:5\\n',\n",
       " 'gorillabeing:6041191:4\\n',\n",
       " 'lostgirl:1308772:3\\n',\n",
       " 'odelete:26761935:5\\n',\n",
       " 'disinlok:1482495:3\\n',\n",
       " 'Decadeff:2999913:4\\n',\n",
       " '53488315:2252736:0\\n',\n",
       " 'wstlivetony:3105162:3\\n',\n",
       " '1049890:26862259:3\\n',\n",
       " '53540602:5989818:3\\n',\n",
       " '35711522:7054120:4\\n',\n",
       " 'Lejokin:1428995:4\\n',\n",
       " 'duzhouchi:6875611:1\\n',\n",
       " 'turbine:1849031:4\\n',\n",
       " 'Duyuanyuan:1469441:0\\n',\n",
       " 'rockduan1987:3217149:3\\n',\n",
       " '2345408:3445526:3\\n',\n",
       " '41866252:3224592:0\\n',\n",
       " 'fxee:3313801:0\\n',\n",
       " 'moiiiiiix:1962823:2\\n',\n",
       " 'Fish_April:3154909:3\\n',\n",
       " 'zhushejia:1291560:5\\n',\n",
       " '52098177:19973815:3\\n',\n",
       " 'alexf:23761370:4\\n',\n",
       " 'machinex:20266753:2\\n',\n",
       " '4271475:3230459:4\\n',\n",
       " 'Angelachang:24743711:3\\n',\n",
       " 'panpanandfrank:1309238:4\\n',\n",
       " '55416887:1294561:3\\n',\n",
       " 'findlyandlan:2277181:0\\n',\n",
       " 'freefreefree:2363506:5\\n',\n",
       " '55374268:1773216:4\\n',\n",
       " 'lightwing86:1482055:3\\n',\n",
       " '122948297:24857860:3\\n',\n",
       " '2320102:3317128:3\\n',\n",
       " 'luzhiyu:20451159:3\\n',\n",
       " '3891102:25838216:3\\n',\n",
       " 'maolingxiao:1303184:3\\n',\n",
       " '55286456:1308772:3\\n',\n",
       " '4517733:3150816:4\\n',\n",
       " '52316424:4160540:4\\n',\n",
       " 'crowneak:4176542:4\\n',\n",
       " 'yuhanxi:4920528:0\\n',\n",
       " 'yinxiang:1753362:3\\n',\n",
       " '62651248:24697826:2\\n',\n",
       " 'momo13-:1293603:3\\n',\n",
       " 'mrsbonbon:6870362:0\\n',\n",
       " 'linnylin:2377277:4\\n',\n",
       " 'goldentung:1306111:4\\n',\n",
       " '2163336:1433330:3\\n',\n",
       " 'amjinyan:3805953:0\\n',\n",
       " '49325754:1292233:5\\n',\n",
       " 'Pmhouse:1307914:0\\n',\n",
       " 'lanlanThailand:10727641:4\\n',\n",
       " 'zhouruopei:3011049:4\\n',\n",
       " '98107332:1422952:4\\n',\n",
       " '77320515:3993588:4\\n',\n",
       " 'shiningmonkey:24736566:0\\n',\n",
       " '82851721:26351524:2\\n',\n",
       " '4264819:25786060:4\\n',\n",
       " 'yicai7094:1293537:3\\n',\n",
       " 'takodajang:11529526:3\\n',\n",
       " 'SuHangKing:25962590:3\\n',\n",
       " 'Mixrainer:2338055:4\\n',\n",
       " '47053418:11810348:4\\n',\n",
       " '4013328:1296201:4\\n',\n",
       " 'lerystyle:1474189:4\\n',\n",
       " 'impressioncr:4824515:3\\n',\n",
       " 'kickyourleg:1294625:5\\n',\n",
       " 'hsn92:1306662:3\\n',\n",
       " 'gloomsky:1299765:5\\n',\n",
       " '44286990:1418834:5\\n',\n",
       " '51774719:1292679:4\\n',\n",
       " 'datuixiaozhang:1294589:3\\n',\n",
       " 'tin:1296044:5\\n',\n",
       " '46453072:26629153:3\\n',\n",
       " '114300394:3011308:4\\n',\n",
       " 'Perry_Chan:25778483:3\\n',\n",
       " '84706959:1828115:5\\n',\n",
       " 'Leon86:25823132:0\\n',\n",
       " 'thandour:5187476:3\\n',\n",
       " '46419448:1293073:3\\n',\n",
       " '67654909:1792928:4\\n',\n",
       " 'pppamela:4896894:0\\n',\n",
       " 'darkbloom:21318488:5\\n',\n",
       " 'hazelhan:1295409:5\\n',\n",
       " 'darkbloom:2369549:3\\n',\n",
       " 'mrsbonbon:1300300:0\\n',\n",
       " 'HaleyZZ:2239293:4\\n',\n",
       " 'Levora:1300275:4\\n',\n",
       " '21993406:25855951:0\\n',\n",
       " 'boffin:1292063:0\\n',\n",
       " '35711522:3893805:3\\n',\n",
       " 'xuguanyu1381:1291841:5\\n',\n",
       " 'god_wyj:25905034:4\\n',\n",
       " '73865605:3824672:4\\n',\n",
       " 'shinylinshan:20426995:3\\n',\n",
       " 'luzhiyu:1293041:4\\n',\n",
       " 'mwjia117:10439236:4\\n',\n",
       " '37850023:4097023:2\\n',\n",
       " '59075830:1299680:3\\n',\n",
       " '64873901:3072086:5\\n',\n",
       " 'AubreySoong:4798707:5\\n',\n",
       " 'lightwing86:25794302:3\\n',\n",
       " '4517733:1292233:4\\n',\n",
       " '55416887:1300916:3\\n',\n",
       " 'chahom:3217149:3\\n',\n",
       " 'Huxinghang510:1295753:5\\n',\n",
       " 'Ar.Nic:1292329:4\\n',\n",
       " 'geekieo:24297912:4\\n',\n",
       " 'SheenaM:1296869:0\\n',\n",
       " '2313690:1309049:3\\n',\n",
       " 'HaleyZZ:1866264:4\\n',\n",
       " 'peach52:3006865:0\\n',\n",
       " 'Decadeff:1291870:5\\n',\n",
       " 'EtudeInEMajor:1293818:4\\n',\n",
       " 'zurich0o0:3286547:5\\n',\n",
       " '106531709:25908302:1\\n',\n",
       " 'ohjoo:1428175:4\\n',\n",
       " '50175290:4215790:5\\n',\n",
       " 'aaaaaaalice:26630781:3\\n',\n",
       " 'ez2dier:1292064:5\\n',\n",
       " '65977710:3365129:5\\n',\n",
       " '3351253:3660508:0\\n',\n",
       " '49411879:1292287:4\\n',\n",
       " '4013328:5913028:4\\n',\n",
       " '4048178:21324900:4\\n',\n",
       " 'Ambergreen:3070319:0\\n',\n",
       " 'pufang:3546019:3\\n',\n",
       " '5980522:3904560:0\\n',\n",
       " 'gorillabeing:1291832:4\\n',\n",
       " 'ne7erland:3734112:4\\n',\n",
       " 'lightwing86:3743114:5\\n',\n",
       " '66835973:1305487:4\\n',\n",
       " '92468807:3047988:3\\n',\n",
       " 'manhuamao:25890005:5\\n',\n",
       " '57507262:1292659:4\\n',\n",
       " 'muzichichu:24750126:4\\n',\n",
       " 'peter28:3071441:4\\n',\n",
       " 'yfqc24pippo:6531251:1\\n',\n",
       " '67725912:1308865:4\\n',\n",
       " '1514019:1303167:3\\n',\n",
       " 'sliaobellamy:3742360:5\\n',\n",
       " 'implicitallure:7154466:4\\n',\n",
       " 'szean:1353725:4\\n',\n",
       " '46411162:23232876:5\\n',\n",
       " 'lsmh:3239695:3\\n',\n",
       " 'turbine:20378794:3\\n',\n",
       " '72440421:26581134:4\\n',\n",
       " '64573746:10047547:3\\n',\n",
       " 'airgraceful:10741834:4\\n',\n",
       " 'yungweitung:1300954:3\\n',\n",
       " '1395153:1766086:0\\n',\n",
       " '130866861:4917726:5\\n',\n",
       " 'luzhiyu:3158443:2\\n',\n",
       " 'xidaduo:2464346:5\\n',\n",
       " 'disinlok:1294519:3\\n',\n",
       " '140035768:26648249:0\\n',\n",
       " 'gloomsky:1302425:4\\n',\n",
       " '37924507:1291550:3\\n',\n",
       " '53024786:1308866:4\\n',\n",
       " '48349929:1301171:5\\n',\n",
       " 'cha:1293323:4\\n',\n",
       " '92468807:25746249:3\\n',\n",
       " 'luzhiyu:1422952:3\\n',\n",
       " 'rapstone:5370010:4\\n',\n",
       " 'wanfang:1305355:0\\n',\n",
       " 'lulu204ever:1307698:0\\n',\n",
       " '67610456:26862259:4\\n',\n",
       " '53540602:1294300:3\\n',\n",
       " 'dandelionweiwei:21318488:5\\n',\n",
       " 'boffin:1889243:4\\n',\n",
       " 'lephemera:1421809:5\\n',\n",
       " 'bitterness-zy:2076181:5\\n',\n",
       " 'zombieleslie:3824672:0\\n',\n",
       " 'Apanggg:4059245:3\\n',\n",
       " '1069770:5320233:4\\n',\n",
       " '3991087:1295644:5\\n',\n",
       " '52865931:1439919:3\\n',\n",
       " '3696391:3757150:3\\n',\n",
       " '3914117:25843976:0\\n',\n",
       " '57634132:10741643:3\\n',\n",
       " 'reglisse:3168086:3\\n',\n",
       " 'luzhiyu:1418290:4\\n',\n",
       " 'maolingxiao:6803494:4\\n',\n",
       " 'gambler801:24827545:3\\n',\n",
       " '85239246:1828115:4\\n',\n",
       " 'luzhiyu:5260797:3\\n',\n",
       " 'aaaaaaalice:2375043:4\\n',\n",
       " '75215757:23416554:4\\n',\n",
       " '3527241:1482077:2\\n',\n",
       " '2345408:1292704:0\\n',\n",
       " '53488315:1299645:0\\n',\n",
       " '4119949:1293566:5\\n',\n",
       " 'voici-voila:2038379:3\\n',\n",
       " 'antiquelegend:1860582:4\\n',\n",
       " 'Apanggg:1857099:4\\n',\n",
       " '1069770:2297265:4\\n',\n",
       " 'lingyun93:1308838:4\\n',\n",
       " '129428484:26352462:3\\n',\n",
       " 'TIAN507:1300613:4\\n',\n",
       " '85239246:3532614:3\\n',\n",
       " 'zwj514235:2156779:0\\n',\n",
       " '2447518:10679471:3\\n',\n",
       " '47746859:26658552:0\\n',\n",
       " 'Huxinghang510:1308120:0\\n',\n",
       " 'epwoa:1292233:5\\n',\n",
       " 'spore:26206746:0\\n',\n",
       " 'wanfang:6120832:0\\n',\n",
       " 'Mixrainer:3821067:4\\n',\n",
       " '4272982:5151357:3\\n',\n",
       " '6160158:26862259:2\\n',\n",
       " '62976048:2156663:4\\n',\n",
       " '45601456:1428175:5\\n',\n",
       " 'goldentung:25864085:5\\n',\n",
       " 'ez2dier:4066206:3\\n',\n",
       " '4264819:1291843:4\\n',\n",
       " '75941536:1297294:5\\n',\n",
       " '60648686:26290367:3\\n',\n",
       " 'anchor1978:1296185:4\\n',\n",
       " '3637984:1297570:0\\n',\n",
       " 'honeymonkey1996:3319755:4\\n',\n",
       " 'Ozu:3592854:4\\n',\n",
       " '2345408:3047727:3\\n',\n",
       " '3427496:6873740:3\\n',\n",
       " '49308114:6386345:3\\n',\n",
       " 'wubo:4861408:2\\n',\n",
       " 'pppamela:6727679:0\\n',\n",
       " 'TERRYBEAR:20020577:4\\n',\n",
       " '41327173:10532735:5\\n',\n",
       " '3399138:6514136:2\\n',\n",
       " 'kickyourleg:1292329:5\\n',\n",
       " 'sliaobellamy:1293527:4\\n',\n",
       " '41263439:5319835:3\\n',\n",
       " '40122800:1308767:4\\n',\n",
       " '46333858:2974278:4\\n',\n",
       " '4723556:1978369:2\\n',\n",
       " '122948297:6984051:3\\n',\n",
       " 'xiao.n.:1292262:0\\n',\n",
       " '43911066:1945083:0\\n',\n",
       " '3562814:4868705:3\\n',\n",
       " '5617300:1958400:3\\n',\n",
       " '60302594:6989753:3\\n',\n",
       " '51739908:1293460:4\\n',\n",
       " 'luzhiyu:1294444:3\\n',\n",
       " 'aaaaaaalice:4249355:5\\n',\n",
       " 'flysoftly:6146955:4\\n',\n",
       " 'rapstone:2284418:3\\n',\n",
       " 'unmask_sage:1291546:5\\n',\n",
       " '43911066:3578981:0\\n',\n",
       " '63293741:2215609:0\\n',\n",
       " 'kn0537:1301578:3\\n',\n",
       " 'fxee:5996801:0\\n',\n",
       " '2434526:3286528:4\\n',\n",
       " 'Huxinghang510:1296528:5\\n',\n",
       " '73865605:26313973:4\\n',\n",
       " '80485915:10833923:3\\n',\n",
       " '53488315:2221713:0\\n',\n",
       " 'lingyun93:26937493:1\\n',\n",
       " 'Huxinghang510:1297889:0\\n',\n",
       " 'Ambergreen:1860745:4\\n',\n",
       " 'thinkingcold:5289355:1\\n',\n",
       " '49174242:3077791:4\\n',\n",
       " 'nanka:4301659:3\\n',\n",
       " 'suliu:7054604:4\\n',\n",
       " '2284641:1302394:2\\n',\n",
       " '3413155:1771061:3\\n',\n",
       " '141037552:4922787:5\\n',\n",
       " '37241296:1863923:5\\n',\n",
       " '3696391:1301434:4\\n',\n",
       " 'Lejokin:1298443:4\\n',\n",
       " '2471325:1293181:4\\n',\n",
       " 'justseverin:1463371:5\\n',\n",
       " 'lulu204ever:1292328:3\\n',\n",
       " 'lephemera:1300911:1\\n',\n",
       " 'isaccsun:20270421:4\\n',\n",
       " '46781081:21360417:5\\n',\n",
       " 'xiaoxu1987:1303017:0\\n',\n",
       " '2447518:11525673:4\\n',\n",
       " '49194367:21340202:2\\n',\n",
       " 'Kiddieyi:26219198:3\\n',\n",
       " '64351070:20020577:4\\n',\n",
       " 'TERRYBEAR:6097775:5\\n',\n",
       " '52867570:1303203:0\\n',\n",
       " 'lerystyle:1870044:4\\n',\n",
       " 'Lejokin:4840374:4\\n',\n",
       " 'lushadow:1858678:5\\n',\n",
       " '125373467:1291544:5\\n',\n",
       " '60164301:26341137:2\\n',\n",
       " 'missbirdy:1480322:4\\n',\n",
       " '3341866:2044201:3\\n',\n",
       " '1049890:3158443:4\\n',\n",
       " '139123958:1292206:5\\n',\n",
       " 'emma520999:24719853:4\\n',\n",
       " 'grace5ants:1292720:4\\n',\n",
       " '1813192:3077791:4\\n',\n",
       " '140035768:3071604:4\\n',\n",
       " 'damnmelanie:1291560:4\\n',\n",
       " 'caonimaqgl:1981242:4\\n',\n",
       " '43911066:1309199:0\\n',\n",
       " 'turbine:1295560:3\\n',\n",
       " 'rockduan1987:6855094:3\\n',\n",
       " '66273295:25765735:4\\n',\n",
       " '37889499:11443314:5\\n',\n",
       " 'orangeumoon:6799161:3\\n',\n",
       " 'manhuamao:5250583:3\\n',\n",
       " '41263439:2015069:4\\n',\n",
       " '82851721:3999778:1\\n',\n",
       " '51016659:1588945:3\\n',\n",
       " '53024786:1292962:4\\n',\n",
       " '4119949:20505641:5\\n',\n",
       " 'gainaxian:22715021:4\\n',\n",
       " 'machinex:1291545:4\\n',\n",
       " '114520027:25787888:0\\n',\n",
       " 'sophie1900:2567998:3\\n',\n",
       " 'caccy:6039412:3\\n',\n",
       " '48188220:26588970:4\\n',\n",
       " 'gloomsky:3007773:5\\n',\n",
       " '50726933:19944106:1\\n',\n",
       " 'sanfer:1305677:4\\n',\n",
       " '84450877:1927369:5\\n',\n",
       " '4119949:1291545:5\\n',\n",
       " 'alhjw:1300299:5\\n',\n",
       " '3399946:6558062:5\\n',\n",
       " 'colayang:1293394:0\\n',\n",
       " 'TERRYBEAR:1308753:0\\n',\n",
       " '46419448:25750820:5\\n',\n",
       " '45601456:10833924:4\\n',\n",
       " 'antiquelegend:5298995:5\\n',\n",
       " 'xiaoxu1987:1296629:0\\n',\n",
       " 'redkop:1315574:3\\n',\n",
       " 'faye0520:2274932:4\\n',\n",
       " 'sanfer:4186776:4\\n',\n",
       " 'chenolivia:3230459:3\\n',\n",
       " '35711522:2223596:1\\n',\n",
       " '78146329:2209573:0\\n',\n",
       " 'maolingxiao:5323366:3\\n',\n",
       " 'EarlVampire:24750534:3\\n',\n",
       " '4826633:26576692:5\\n',\n",
       " '3816094:3075287:4\\n',\n",
       " '46453072:19962837:0\\n',\n",
       " 'gloomsky:3263169:4\\n',\n",
       " 'luzhiyu:1304708:4\\n',\n",
       " 'yungweitung:2054933:3\\n',\n",
       " 'goldentung:26372545:4\\n',\n",
       " 'Irisivy:1292528:5\\n',\n",
       " 'lingci:3614515:3\\n',\n",
       " 'maomao3644:6517421:4\\n',\n",
       " '4045398:1303021:5\\n',\n",
       " '64259939:1293895:3\\n',\n",
       " 'darkbloom:1291856:5\\n',\n",
       " 'gainaxian:3073124:4\\n',\n",
       " 'dogfishourse:1306154:3\\n',\n",
       " 'boffin:4876722:3\\n',\n",
       " '56188946:1292062:4\\n',\n",
       " '4264819:1978709:5\\n',\n",
       " 'cha:1297965:4\\n',\n",
       " '2447518:2046839:4\\n',\n",
       " 'dandelionweiwei:1455849:4\\n',\n",
       " 'luzhiyu:1316524:5\\n',\n",
       " '4070241:3036460:4\\n',\n",
       " '10241572:1293172:0\\n',\n",
       " 'manhuamao:6053731:5\\n',\n",
       " 'pvcflooring:4724373:0\\n',\n",
       " 'yinxiang:1908446:5\\n',\n",
       " 'Fish_April:5397537:5\\n',\n",
       " 'fishyasmin:1440685:3\\n',\n",
       " '67333615:6985810:4\\n',\n",
       " 'zurich0o0:1309199:5\\n',\n",
       " '68893057:25662329:3\\n',\n",
       " '2238810:2117844:3\\n',\n",
       " '2256415:4202982:3\\n',\n",
       " '2010006:5319819:2\\n',\n",
       " 'Huxinghang510:1295452:4\\n',\n",
       " 'Vita.L:1291549:4\\n',\n",
       " 'redkop:1859036:3\\n',\n",
       " '4166635:4066206:2\\n',\n",
       " 'mrsbonbon:1293530:0\\n',\n",
       " 'sanfer:1306559:3\\n',\n",
       " '53956912:4014396:1\\n',\n",
       " 'jinzeyu007:6799191:3\\n',\n",
       " 'sanfer:1291557:4\\n',\n",
       " 'ez2dier:1763132:0\\n',\n",
       " '3110359:1292217:0\\n',\n",
       " 'machinex:11601824:1\\n',\n",
       " 'hazelhan:19945757:4\\n',\n",
       " '132778991:21937452:5\\n',\n",
       " '75215757:20505641:3\\n',\n",
       " 'liangxinyin:6828823:3\\n',\n",
       " '64573746:3395373:4\\n',\n",
       " '4723556:1297525:4\\n',\n",
       " '3991087:1291550:5\\n',\n",
       " 'i_outersider:3412882:4\\n',\n",
       " 'luzhiyu:1958447:3\\n',\n",
       " '2471325:10833923:3\\n',\n",
       " 'feyiu:26309191:2\\n',\n",
       " '46643232:3009161:3\\n',\n",
       " '62976048:2037796:1\\n',\n",
       " 'airplane:1866471:3\\n',\n",
       " 'slowfood:3330144:3\\n',\n",
       " '91024874:25833913:3\\n',\n",
       " 'zeus93:1291999:0\\n',\n",
       " 'zhouruopei:3443389:5\\n',\n",
       " '49554992:1418752:5\\n',\n",
       " '54275228:26277313:5\\n',\n",
       " 'abby987:1419901:4\\n',\n",
       " '37241296:1308799:4\\n',\n",
       " 'forgodsake:2294568:3\\n',\n",
       " '49742519:1419933:4\\n',\n",
       " '7519351:1309101:5\\n',\n",
       " '46643232:6068516:2\\n',\n",
       " 'xyiyi:2034997:4\\n',\n",
       " '35507110:5967821:0\\n',\n",
       " 'lulu.madrid:1457707:5\\n',\n",
       " 'luzhiyu:1797326:4\\n',\n",
       " 'nanka:1306123:3\\n',\n",
       " '55374268:1783457:0\\n',\n",
       " 'TERRYBEAR:1301445:4\\n',\n",
       " '51774719:1291842:3\\n',\n",
       " '73865605:2295986:0\\n',\n",
       " '1417037:1304607:0\\n',\n",
       " 'lephemera:1305164:0\\n',\n",
       " 'yicai7094:1432146:4\\n',\n",
       " 'twooneseven:3582181:4\\n',\n",
       " '75941536:26760485:3\\n',\n",
       " '46781081:21318488:4\\n',\n",
       " '82851721:3264823:1\\n',\n",
       " '58086005:20515394:3\\n',\n",
       " 'moiiiiiix:23424586:3\\n',\n",
       " 'zeus93:1294584:0\\n',\n",
       " '44286990:1291841:4\\n',\n",
       " 'YOU87:2988749:4\\n',\n",
       " 'Angelachang:1304282:4\\n',\n",
       " '48066152:2028677:3\\n',\n",
       " 'vitaminJ:1300551:5\\n',\n",
       " '51225621:25964071:0\\n',\n",
       " 'gloomsky:4191644:5\\n',\n",
       " 'heartunder:4228495:5\\n',\n",
       " '3914117:1940086:0\\n',\n",
       " 'machinex:25867544:2\\n',\n",
       " '5980522:1301753:0\\n',\n",
       " '57774434:25773932:3\\n',\n",
       " '78079483:1292328:5\\n',\n",
       " 'sparks-lyc:25662329:5\\n',\n",
       " 'Vita.L:3151809:0\\n',\n",
       " '53956912:3592859:4\\n',\n",
       " '119591426:1292213:5\\n',\n",
       " '3569340:10741220:0\\n',\n",
       " 'wudaxi:1929461:0\\n',\n",
       " '1417037:6890730:3\\n',\n",
       " 'vitaminJ:25749813:4\\n',\n",
       " 'simonexuyang:1479817:3\\n',\n",
       " 'zhouruopei:4914468:3\\n',\n",
       " 'lightwing86:2249531:5\\n',\n",
       " 'yolanta1030:3003137:4\\n',\n",
       " 'redkop:24405378:3\\n',\n",
       " 'linnylin:1917638:0\\n',\n",
       " 'colayang:1923304:0\\n',\n",
       " '139123958:19955769:4\\n',\n",
       " '154822294:26354572:4\\n',\n",
       " '1572520:1301888:4\\n',\n",
       " '73865605:1866473:5\\n',\n",
       " '40122800:2010975:1\\n',\n",
       " '46419448:2978224:4\\n',\n",
       " '49325754:3025375:3\\n',\n",
       " 'duzhouchi:1325005:3\\n',\n",
       " 'hellruby:1296908:4\\n',\n",
       " '1049890:1291858:5\\n',\n",
       " '58728629:3101548:3\\n',\n",
       " 'Isa.bella:26315270:2\\n',\n",
       " 'zombieleslie:6395245:4\\n',\n",
       " '4070241:2997076:0\\n',\n",
       " 'bdhztian:25749954:5\\n',\n",
       " '7519351:1308748:3\\n',\n",
       " '1719006:1291999:5\\n',\n",
       " '50758910:3685955:3\\n',\n",
       " 'lulu.madrid:3560232:5\\n',\n",
       " 'luzhiyu:26340103:4\\n',\n",
       " 'gambler801:6225992:0\\n',\n",
       " 'EtudeInEMajor:3217169:3\\n',\n",
       " '46194421:26182910:3\\n',\n",
       " 'shinylinshan:26700715:5\\n',\n",
       " 'sanfer:20378817:0\\n',\n",
       " 'jinzeyu007:3158449:3\\n',\n",
       " 'god_wyj:2998373:4\\n',\n",
       " 'jinzeyu007:25860868:3\\n',\n",
       " 'grace5ants:6386345:2\\n',\n",
       " '37889499:26586806:3\\n',\n",
       " 'kickyourleg:2156660:3\\n',\n",
       " '57507262:1291824:4\\n',\n",
       " 'god_wyj:1291581:4\\n',\n",
       " 'LeighSuen:25726614:5\\n',\n",
       " '51225621:1292064:0\\n',\n",
       " '35558667:1780330:0\\n',\n",
       " '58138421:1291585:4\\n',\n",
       " 'yungweitung:1759371:2\\n',\n",
       " 'boffin:24405378:3\\n',\n",
       " 'Huxinghang510:1305686:0\\n',\n",
       " '80485915:2083944:4\\n',\n",
       " 'Asd.F:3642835:5\\n',\n",
       " 'gorillabeing:3804891:5\\n',\n",
       " 'rapstone:1388216:5\\n',\n",
       " 'sara.x:2133323:5\\n',\n",
       " '55286456:1292055:4\\n',\n",
       " 'darkbloom:1295045:4\\n',\n",
       " '49411879:26259677:2\\n',\n",
       " 'reglisse:6080775:4\\n',\n",
       " 'lushadow:1296753:4\\n',\n",
       " 'oscarfilmmaker:1806543:3\\n',\n",
       " 'chenolivia:1856299:4\\n',\n",
       " 'xiaoxu1987:1293399:0\\n',\n",
       " 'hosinotony:24874401:3\\n',\n",
       " '63293741:25876745:0\\n',\n",
       " 'taylorh:1295045:4\\n',\n",
       " '8685447:1308741:5\\n',\n",
       " '45824731:1432146:5\\n',\n",
       " '3991087:25835480:5\\n',\n",
       " 'iris59:3319755:5\\n',\n",
       " 'gloomsky:3532614:3\\n',\n",
       " '114520027:1294240:3\\n',\n",
       " 'jackwish:26266072:4\\n',\n",
       " '21993406:1292722:0\\n',\n",
       " '139123958:1473016:3\\n',\n",
       " '44472545:4822848:3\\n',\n",
       " '125373467:2139418:3\\n',\n",
       " '69318478:25760591:3\\n',\n",
       " '50040754:25790749:5\\n',\n",
       " 'puderty:6057942:4\\n',\n",
       " 'missbirdy:4935011:5\\n',\n",
       " '1145037:24404677:4\\n',\n",
       " '2447518:3564499:5\\n',\n",
       " 'summerlittle:1297756:0\\n',\n",
       " '41138294:1297038:3\\n',\n",
       " '75310522:1389971:5\\n',\n",
       " 'lingyun93:26340305:3\\n',\n",
       " 'zhouruopei:25738406:3\\n',\n",
       " '64884887:1291544:4\\n',\n",
       " '135455673:25955779:3\\n',\n",
       " '139123958:1301201:4\\n',\n",
       " 'artshapedworld:3564499:0\\n',\n",
       " '37924507:25863017:2\\n',\n",
       " 'luzhiyu:1302136:5\\n',\n",
       " 'Ozu:2364054:2\\n',\n",
       " 'Ozu:1303623:5\\n',\n",
       " 'ohjoo:1301174:5\\n',\n",
       " '75215757:4823337:3\\n',\n",
       " '46643232:2132473:3\\n',\n",
       " 'lephemera:1303914:3\\n',\n",
       " 'yicai7094:4097023:3\\n',\n",
       " 'gloomsky:1292214:3\\n',\n",
       " 'lightwing86:6549903:5\\n',\n",
       " '6160158:3313801:2\\n',\n",
       " 'etongnet:1292344:3\\n',\n",
       " '58138421:1301445:4\\n',\n",
       " '66273295:4824969:4\\n',\n",
       " 'Levora:1303203:4\\n',\n",
       " '2446732:1296996:4\\n',\n",
       " '62995545:3077742:3\\n',\n",
       " 'SuHangKing:1777612:4\\n',\n",
       " 'luverboy:3102668:0\\n',\n",
       " 'yinxiang:4841150:3\\n',\n",
       " '58086005:1303907:3\\n',\n",
       " '75310522:1303145:5\\n',\n",
       " 'aaaaaaalice:1297110:4\\n',\n",
       " 'yinxiang:1298351:4\\n',\n",
       " 'aaaaaaalice:2277841:4\\n',\n",
       " '139123958:1790587:4\\n',\n",
       " 'lingyun93:24883815:3\\n',\n",
       " 'typacm:24298212:3\\n',\n",
       " '2447518:1917171:5\\n',\n",
       " 'apple.xp:19945757:4\\n',\n",
       " 'Huxinghang510:1498658:3\\n',\n",
       " '1452241:1962823:0\\n',\n",
       " '52316424:1309043:4\\n',\n",
       " 'typacm:6549903:4\\n',\n",
       " '2238810:1302054:3\\n',\n",
       " 'jinzeyu007:3275168:4\\n',\n",
       " '4070241:1981242:4\\n',\n",
       " 'machinex:1418198:5\\n',\n",
       " '138554415:24753687:3\\n',\n",
       " '2446732:7046723:4\\n',\n",
       " '46781081:3269068:4\\n',\n",
       " 'colayang:1787291:5\\n',\n",
       " 'yfqc24pippo:1438708:1\\n',\n",
       " '3527241:1305068:3\\n',\n",
       " '42883624:25964071:3\\n',\n",
       " 'mwjia117:5964718:4\\n',\n",
       " 'gambler801:20471761:4\\n',\n",
       " '98107332:25774051:4\\n',\n",
       " '62371028:1296334:0\\n',\n",
       " '58922364:6793351:4\\n',\n",
       " '2137049:1308722:0\\n',\n",
       " '54902656:1294019:4\\n',\n",
       " 'HaleyZZ:1830581:4\\n',\n",
       " 'freefreefree:2365260:5\\n',\n",
       " 'eleanorgoround:1291841:3\\n',\n",
       " 'turbine:3804891:4\\n',\n",
       " 'cicisun:25986180:4\\n',\n",
       " '58086005:1428577:5\\n',\n",
       " 'MZZ1221:25880244:3\\n',\n",
       " '2170821:3269068:4\\n',\n",
       " 'luzhiyu:3077668:5\\n',\n",
       " 'sophie1900:1297447:5\\n',\n",
       " 'Puppyman:2078159:4\\n',\n",
       " '58922364:25953663:5\\n',\n",
       " 'shasha95:5319835:3\\n',\n",
       " 'gainaxian:1410556:3\\n',\n",
       " 'ClairehA:6040982:3\\n',\n",
       " '139319522:6037977:3\\n',\n",
       " 'litianfei:3005365:5\\n',\n",
       " 'pvcflooring:1401535:3\\n',\n",
       " 'jadycheung:2063005:3\\n',\n",
       " '57634132:1303036:5\\n',\n",
       " '51444001:1761854:4\\n',\n",
       " 'tin:2248784:4\\n',\n",
       " 'mrsbonbon:2326676:0\\n',\n",
       " 'AubreySoong:1293434:4\\n',\n",
       " 'kanrenao:1427818:4\\n',\n",
       " 'rolenter:1305065:5\\n',\n",
       " '49455574:2149806:4\\n',\n",
       " 'geekieo:3792799:4\\n',\n",
       " '46376950:5344178:4\\n',\n",
       " 'j2012bydz:26357796:5\\n',\n",
       " '49345499:1780168:4\\n',\n",
       " '154233655:4286017:4\\n',\n",
       " '64488507:1299513:4\\n',\n",
       " '55286456:4246125:4\\n',\n",
       " '41979840:3120852:3\\n',\n",
       " 'bayer04040404:2074009:0\\n',\n",
       " '51736064:2990288:5\\n',\n",
       " '4119949:4079119:3\\n',\n",
       " '92468807:1307372:5\\n',\n",
       " '2471325:1760104:3\\n',\n",
       " 'geekieo:1929463:5\\n',\n",
       " '46473183:4902100:0\\n',\n",
       " 'PiggyOgre:2997052:3\\n',\n",
       " 'orangeumoon:20514902:4\\n',\n",
       " '60999102:3574495:0\\n',\n",
       " '64488507:24743711:4\\n',\n",
       " 'w8j25:24815950:3\\n',\n",
       " 'Assassinkingdom:3793023:5\\n',\n",
       " 'stayreal13:3818594:5\\n',\n",
       " 'jadycheung:6307447:4\\n',\n",
       " 'irisji8990:2274948:3\\n',\n",
       " ...]"
      ]
     },
     "execution_count": 109,
     "metadata": {},
     "output_type": "execute_result"
    }
   ],
   "source": [
    "a[0:length]"
   ]
  },
  {
   "cell_type": "code",
   "execution_count": 111,
   "metadata": {
    "collapsed": false
   },
   "outputs": [],
   "source": [
    "train_file = open('new_usr_ratings.train', 'w')"
   ]
  },
  {
   "cell_type": "code",
   "execution_count": 112,
   "metadata": {
    "collapsed": true
   },
   "outputs": [],
   "source": [
    "train_file.writelines(a[0:length])"
   ]
  },
  {
   "cell_type": "code",
   "execution_count": 113,
   "metadata": {
    "collapsed": true
   },
   "outputs": [],
   "source": [
    "train_file.close()"
   ]
  },
  {
   "cell_type": "code",
   "execution_count": 114,
   "metadata": {
    "collapsed": true
   },
   "outputs": [],
   "source": [
    "c = [0, 1, 3, 4]"
   ]
  },
  {
   "cell_type": "code",
   "execution_count": 116,
   "metadata": {
    "collapsed": false
   },
   "outputs": [
    {
     "data": {
      "text/plain": [
       "[0, 1]"
      ]
     },
     "execution_count": 116,
     "metadata": {},
     "output_type": "execute_result"
    }
   ],
   "source": [
    "c[0:2]"
   ]
  },
  {
   "cell_type": "code",
   "execution_count": 118,
   "metadata": {
    "collapsed": false
   },
   "outputs": [
    {
     "data": {
      "text/plain": [
       "[3, 4]"
      ]
     },
     "execution_count": 118,
     "metadata": {},
     "output_type": "execute_result"
    }
   ],
   "source": [
    "c[2:]"
   ]
  },
  {
   "cell_type": "code",
   "execution_count": 122,
   "metadata": {
    "collapsed": true
   },
   "outputs": [],
   "source": [
    "test_file = open('new_usr_ratings.test', 'w')"
   ]
  },
  {
   "cell_type": "code",
   "execution_count": 123,
   "metadata": {
    "collapsed": true
   },
   "outputs": [],
   "source": [
    "test_file.writelines(a[length:])"
   ]
  },
  {
   "cell_type": "code",
   "execution_count": 124,
   "metadata": {
    "collapsed": true
   },
   "outputs": [],
   "source": [
    "test_file.close()"
   ]
  },
  {
   "cell_type": "code",
   "execution_count": 125,
   "metadata": {
    "collapsed": true
   },
   "outputs": [],
   "source": [
    "train_file = 'new_usr_ratings.train'\n",
    "test_file = 'new_usr_ratings.test'"
   ]
  },
  {
   "cell_type": "code",
   "execution_count": 126,
   "metadata": {
    "collapsed": true
   },
   "outputs": [],
   "source": [
    "data = Dataset.load_from_folds([(train_file, test_file)], reader)"
   ]
  },
  {
   "cell_type": "code",
   "execution_count": 129,
   "metadata": {
    "collapsed": true
   },
   "outputs": [],
   "source": [
    "algo = KNNBasic()\n",
    "from surprise import dump"
   ]
  },
  {
   "cell_type": "code",
   "execution_count": 130,
   "metadata": {
    "collapsed": false
   },
   "outputs": [
    {
     "name": "stdout",
     "output_type": "stream",
     "text": [
      "Computing the msd similarity matrix...\n",
      "Done computing similarity matrix.\n",
      "('The dump has been saved as file', './dump_knn')\n"
     ]
    }
   ],
   "source": [
    "for trainset, testset in data.folds():\n",
    "    algo.train(trainset)\n",
    "    predictions = algo.test(testset)\n",
    "    dump('./dump_knn', predictions, trainset, algo)"
   ]
  },
  {
   "cell_type": "code",
   "execution_count": 131,
   "metadata": {
    "collapsed": true
   },
   "outputs": [],
   "source": [
    "from surprise.accuracy import rmse"
   ]
  },
  {
   "cell_type": "code",
   "execution_count": 132,
   "metadata": {
    "collapsed": true
   },
   "outputs": [],
   "source": [
    "import pickle"
   ]
  },
  {
   "cell_type": "code",
   "execution_count": 133,
   "metadata": {
    "collapsed": true
   },
   "outputs": [],
   "source": [
    "dump_svk = pickle.load(open('./dump_knn', 'rb'))"
   ]
  },
  {
   "cell_type": "code",
   "execution_count": 134,
   "metadata": {
    "collapsed": true
   },
   "outputs": [],
   "source": [
    "predictions = dump_svk['predictions']"
   ]
  },
  {
   "cell_type": "code",
   "execution_count": 135,
   "metadata": {
    "collapsed": false
   },
   "outputs": [
    {
     "name": "stdout",
     "output_type": "stream",
     "text": [
      "RMSE: 1.4266\n"
     ]
    },
    {
     "data": {
      "text/plain": [
       "1.4265879991339414"
      ]
     },
     "execution_count": 135,
     "metadata": {},
     "output_type": "execute_result"
    }
   ],
   "source": [
    "rmse(predictions)"
   ]
  },
  {
   "cell_type": "code",
   "execution_count": null,
   "metadata": {
    "collapsed": true
   },
   "outputs": [],
   "source": []
  }
 ],
 "metadata": {
  "kernelspec": {
   "display_name": "Python 2",
   "language": "python",
   "name": "python2"
  },
  "language_info": {
   "codemirror_mode": {
    "name": "ipython",
    "version": 2
   },
   "file_extension": ".py",
   "mimetype": "text/x-python",
   "name": "python",
   "nbconvert_exporter": "python",
   "pygments_lexer": "ipython2",
   "version": "2.7.13"
  }
 },
 "nbformat": 4,
 "nbformat_minor": 2
}
