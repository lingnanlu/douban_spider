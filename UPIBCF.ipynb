{
 "cells": [
  {
   "cell_type": "code",
   "execution_count": 1,
   "metadata": {
    "collapsed": false
   },
   "outputs": [],
   "source": [
    "import pandas as pd\n",
    "import numpy as np"
   ]
  },
  {
   "cell_type": "code",
   "execution_count": 2,
   "metadata": {
    "collapsed": true
   },
   "outputs": [],
   "source": [
    "from surprise import Dataset\n",
    "from surprise import Reader"
   ]
  },
  {
   "cell_type": "code",
   "execution_count": 3,
   "metadata": {
    "collapsed": true
   },
   "outputs": [],
   "source": [
    "from UBCFBase import UBCFBase"
   ]
  },
  {
   "cell_type": "code",
   "execution_count": 4,
   "metadata": {
    "collapsed": false
   },
   "outputs": [],
   "source": [
    "reader = Reader(line_format='user item rating', sep=':')"
   ]
  },
  {
   "cell_type": "code",
   "execution_count": 5,
   "metadata": {
    "collapsed": true
   },
   "outputs": [],
   "source": [
    "data = Dataset.load_from_file('new_usr_ratings.txt', reader=reader)"
   ]
  },
  {
   "cell_type": "code",
   "execution_count": 6,
   "metadata": {
    "collapsed": true
   },
   "outputs": [],
   "source": [
    "data.split(n_folds=3)"
   ]
  },
  {
   "cell_type": "code",
   "execution_count": 7,
   "metadata": {
    "collapsed": true
   },
   "outputs": [],
   "source": [
    "trainsets = []\n",
    "for trainset, testset in data.folds():\n",
    "    trainsets.append(trainset)"
   ]
  },
  {
   "cell_type": "code",
   "execution_count": 8,
   "metadata": {
    "collapsed": true
   },
   "outputs": [],
   "source": [
    "first_trainset = trainsets[0]"
   ]
  },
  {
   "cell_type": "code",
   "execution_count": 9,
   "metadata": {
    "collapsed": false
   },
   "outputs": [
    {
     "data": {
      "text/plain": [
       "970"
      ]
     },
     "execution_count": 9,
     "metadata": {},
     "output_type": "execute_result"
    }
   ],
   "source": [
    "first_trainset.n_users"
   ]
  },
  {
   "cell_type": "code",
   "execution_count": 10,
   "metadata": {
    "collapsed": true
   },
   "outputs": [],
   "source": [
    "algo = UBCFBase('new_ratings_all.txt')"
   ]
  },
  {
   "cell_type": "code",
   "execution_count": 11,
   "metadata": {
    "collapsed": false
   },
   "outputs": [
    {
     "name": "stderr",
     "output_type": "stream",
     "text": [
      "C:\\Users\\rico\\Miniconda2\\lib\\site-packages\\pandas\\core\\generic.py:2773: SettingWithCopyWarning: \n",
      "A value is trying to be set on a copy of a slice from a DataFrame.\n",
      "Try using .loc[row_indexer,col_indexer] = value instead\n",
      "\n",
      "See the caveats in the documentation: http://pandas.pydata.org/pandas-docs/stable/indexing.html#indexing-view-versus-copy\n",
      "  self[name] = value\n"
     ]
    },
    {
     "name": "stdout",
     "output_type": "stream",
     "text": [
      "Computing the msd similarity matrix...\n",
      "Done computing similarity matrix.\n",
      "Computing the behavior similarity matrix...\n",
      "Done computing behavior similarity matrix\n"
     ]
    }
   ],
   "source": [
    "algo.train(first_trainset)"
   ]
  },
  {
   "cell_type": "code",
   "execution_count": 12,
   "metadata": {
    "collapsed": true
   },
   "outputs": [],
   "source": [
    "from sklearn.metrics.pairwise import pairwise_distances"
   ]
  },
  {
   "cell_type": "code",
   "execution_count": 13,
   "metadata": {
    "collapsed": true
   },
   "outputs": [],
   "source": [
    "temp = algo.trainset_assist_rating_df.groupby(['uid', 'comment_type']).size().unstack().fillna(0)"
   ]
  },
  {
   "cell_type": "code",
   "execution_count": 14,
   "metadata": {
    "collapsed": false
   },
   "outputs": [
    {
     "data": {
      "text/plain": [
       "uid\n",
       "0      0.117279\n",
       "1      0.090301\n",
       "2      0.127673\n",
       "3      0.163442\n",
       "4      0.153344\n",
       "5      0.101027\n",
       "6      0.077351\n",
       "7      0.191309\n",
       "8      0.053859\n",
       "9      0.055076\n",
       "10     0.174408\n",
       "11     0.048195\n",
       "12     0.121666\n",
       "13     0.075698\n",
       "14     0.034325\n",
       "15     0.492575\n",
       "16     0.071068\n",
       "17     0.040907\n",
       "18     0.037947\n",
       "19     0.050069\n",
       "20     0.234244\n",
       "21     0.028679\n",
       "22     0.072327\n",
       "23     0.077779\n",
       "24     0.051670\n",
       "25     0.154584\n",
       "26     0.019319\n",
       "27     0.039005\n",
       "28     0.075119\n",
       "29     0.299539\n",
       "         ...   \n",
       "940    0.147026\n",
       "941    0.105521\n",
       "942    0.055242\n",
       "943    0.193244\n",
       "944    0.069340\n",
       "945    0.063571\n",
       "946    0.089552\n",
       "947    0.066948\n",
       "948    0.038586\n",
       "949    0.011173\n",
       "950    0.010086\n",
       "951    0.036092\n",
       "952    0.000236\n",
       "953    0.044640\n",
       "954    0.041752\n",
       "955    0.106726\n",
       "956    0.003652\n",
       "957    0.112007\n",
       "958    0.001767\n",
       "959    0.128055\n",
       "960    0.067291\n",
       "961    0.086438\n",
       "962    0.111168\n",
       "963    0.143347\n",
       "964    0.043632\n",
       "965    0.089578\n",
       "966    0.078538\n",
       "967    0.098069\n",
       "968    0.050907\n",
       "969    0.000059\n",
       "dtype: float64"
      ]
     },
     "execution_count": 14,
     "metadata": {},
     "output_type": "execute_result"
    }
   ],
   "source": [
    "algo.UCI"
   ]
  },
  {
   "cell_type": "code",
   "execution_count": 15,
   "metadata": {
    "collapsed": true
   },
   "outputs": [],
   "source": [
    "def f(df):\n",
    "    df['hot_w'] = 1 / np.log(math.e + df['hot'] - 1)\n",
    "    temp = df.groupby('comment_type')['hot_w'].sum()\n",
    "    \n",
    "    if 1 in temp.index:\n",
    "        return temp[1] / len(temp)\n",
    "    else:\n",
    "        return 0"
   ]
  },
  {
   "cell_type": "code",
   "execution_count": 17,
   "metadata": {
    "collapsed": false
   },
   "outputs": [
    {
     "data": {
      "text/plain": [
       "array([[  0.00000000e+00,   7.10008890e-01,   9.98260390e-01, ...,\n",
       "          2.30045779e+00,   2.63454709e+00,   2.63631820e+00],\n",
       "       [  7.10008890e-01,   0.00000000e+00,   2.91118884e-01, ...,\n",
       "          1.59090037e+00,   1.92461795e+00,   1.92632966e+00],\n",
       "       [  9.98260390e-01,   2.91118884e-01,   0.00000000e+00, ...,\n",
       "          1.30250779e+00,   1.63730525e+00,   1.64047580e+00],\n",
       "       ..., \n",
       "       [  2.30045779e+00,   1.59090037e+00,   1.30250779e+00, ...,\n",
       "          5.26835606e-09,   3.36653183e-01,   3.47443649e-01],\n",
       "       [  2.63454709e+00,   1.92461795e+00,   1.63730525e+00, ...,\n",
       "          3.36653183e-01,   0.00000000e+00,   5.08480918e-02],\n",
       "       [  2.63631820e+00,   1.92632966e+00,   1.64047580e+00, ...,\n",
       "          3.47443649e-01,   5.08480918e-02,   0.00000000e+00]])"
      ]
     },
     "execution_count": 17,
     "metadata": {},
     "output_type": "execute_result"
    }
   ],
   "source": [
    "algo.behavior_sim"
   ]
  },
  {
   "cell_type": "code",
   "execution_count": null,
   "metadata": {
    "collapsed": true
   },
   "outputs": [],
   "source": []
  }
 ],
 "metadata": {
  "kernelspec": {
   "display_name": "Python 2",
   "language": "python",
   "name": "python2"
  },
  "language_info": {
   "codemirror_mode": {
    "name": "ipython",
    "version": 2
   },
   "file_extension": ".py",
   "mimetype": "text/x-python",
   "name": "python",
   "nbconvert_exporter": "python",
   "pygments_lexer": "ipython2",
   "version": "2.7.13"
  }
 },
 "nbformat": 4,
 "nbformat_minor": 2
}
